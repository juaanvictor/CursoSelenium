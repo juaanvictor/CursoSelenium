{
 "cells": [
  {
   "cell_type": "code",
   "execution_count": 1,
   "metadata": {},
   "outputs": [],
   "source": [
    "from selenium import webdriver\n",
    "\n",
    "driver = webdriver.Chrome()"
   ]
  },
  {
   "cell_type": "code",
   "execution_count": 4,
   "metadata": {},
   "outputs": [],
   "source": [
    "driver.get('http://localhost:8000/#/exemplo/1')"
   ]
  },
  {
   "cell_type": "code",
   "execution_count": 5,
   "metadata": {},
   "outputs": [],
   "source": [
    "from selenium.webdriver.common.by import By\n",
    "# Esse comando está fazendo a importação da opção de seletores do selnium"
   ]
  },
  {
   "cell_type": "code",
   "execution_count": null,
   "metadata": {},
   "outputs": [
    {
     "data": {
      "text/plain": [
       "['CLASS_NAME',\n",
       " 'CSS_SELECTOR',\n",
       " 'ID',\n",
       " 'LINK_TEXT',\n",
       " 'NAME',\n",
       " 'PARTIAL_LINK_TEXT',\n",
       " 'TAG_NAME',\n",
       " 'XPATH',\n",
       " '__annotations__',\n",
       " '__class__',\n",
       " '__delattr__',\n",
       " '__dict__',\n",
       " '__dir__',\n",
       " '__doc__',\n",
       " '__eq__',\n",
       " '__format__',\n",
       " '__ge__',\n",
       " '__getattribute__',\n",
       " '__getstate__',\n",
       " '__gt__',\n",
       " '__hash__',\n",
       " '__init__',\n",
       " '__init_subclass__',\n",
       " '__le__',\n",
       " '__lt__',\n",
       " '__module__',\n",
       " '__ne__',\n",
       " '__new__',\n",
       " '__reduce__',\n",
       " '__reduce_ex__',\n",
       " '__repr__',\n",
       " '__setattr__',\n",
       " '__sizeof__',\n",
       " '__str__',\n",
       " '__subclasshook__',\n",
       " '__weakref__',\n",
       " '_custom_finders',\n",
       " 'clear_custom_finders',\n",
       " 'get_finder',\n",
       " 'register_custom_finder']"
      ]
     },
     "execution_count": 7,
     "metadata": {},
     "output_type": "execute_result"
    }
   ],
   "source": [
    "dir(By)\n",
    "# Esse comando retorna o diretório da importação que fizemos"
   ]
  },
  {
   "cell_type": "code",
   "execution_count": null,
   "metadata": {},
   "outputs": [
    {
     "data": {
      "text/plain": [
       "'Lorraine Costa'"
      ]
     },
     "execution_count": 10,
     "metadata": {},
     "output_type": "execute_result"
    }
   ],
   "source": [
    "driver.find_element(By.ID, 'user').get_property('value')\n",
    "# O primeiro parâmetro deve ser By.(seletor que irá usar para a busca)\n",
    "# O segundo deve ser o conteúdo que será o valor a ser buscado\n",
    "# O get_property serve para pegar o valor de alguma das propriedades do item buscado\n",
    "# Esse comando vai nos retorna o primeiro elemento buscado\n",
    "# Se utiliza-lo no plural retornará todos os elementos que contiverem o item buscado"
   ]
  },
  {
   "cell_type": "code",
   "execution_count": null,
   "metadata": {},
   "outputs": [
    {
     "name": "stdout",
     "output_type": "stream",
     "text": [
      "\n",
      "    nome='Lorraine Costa'\n",
      "    profissao='Líder Dados Supervisor'\n",
      "    signo='Gêmeos'\n",
      "    genero='Feminino'\n",
      "\n"
     ]
    }
   ],
   "source": [
    "nome = driver.find_element(By.ID, 'user').get_property('value')\n",
    "profissao = driver.find_element(By.ID, 'role').get_property('value')\n",
    "signo = driver.find_element(By.ID, 'zodiac').get_property('value')\n",
    "genero = driver.find_element(By.ID, 'gender').get_property('value')\n",
    "\n",
    "print(f'''\n",
    "    {nome=},\n",
    "    {profissao=},\n",
    "    {signo=},\n",
    "    {genero=}\n",
    "''')"
   ]
  }
 ],
 "metadata": {
  "kernelspec": {
   "display_name": "venv",
   "language": "python",
   "name": "python3"
  },
  "language_info": {
   "codemirror_mode": {
    "name": "ipython",
    "version": 3
   },
   "file_extension": ".py",
   "mimetype": "text/x-python",
   "name": "python",
   "nbconvert_exporter": "python",
   "pygments_lexer": "ipython3",
   "version": "3.12.7"
  }
 },
 "nbformat": 4,
 "nbformat_minor": 2
}
