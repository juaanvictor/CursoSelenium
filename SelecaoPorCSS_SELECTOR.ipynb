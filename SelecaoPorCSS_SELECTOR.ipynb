{
 "cells": [
  {
   "cell_type": "code",
   "execution_count": 1,
   "metadata": {},
   "outputs": [],
   "source": [
    "from selenium.webdriver.common.by import By\n",
    "from selenium import webdriver\n",
    "\n",
    "driver = webdriver.Chrome()"
   ]
  },
  {
   "cell_type": "code",
   "execution_count": 2,
   "metadata": {},
   "outputs": [],
   "source": [
    "driver.get('http://localhost:8000/#/exemplo/1')"
   ]
  },
  {
   "cell_type": "markdown",
   "metadata": {},
   "source": [
    "# CSS_SELECTOR\n",
    "\n",
    "• #: Seleção de ID\n",
    "\n",
    "• .: Seleção de classes\n",
    "\n",
    "• >: seleção de filhos diretos\n",
    "\n",
    "• ~: Seleção de irmãos\n",
    "\n",
    "• +: Seleção de irmãos imediatos\n",
    "\n",
    "• *: Seleção de todos os elementos\n",
    "\n",
    "• [property=\"value\"]: Seleção de propriedade:\n",
    "\n",
    "    ° ^=: Procura por m prefixo\n",
    "\n",
    "    ° $=: Procura por um sufixo\n",
    "\n",
    "    ° *=: Procura por uma substring\n",
    "\n",
    "    ° |=: Procura por um texto seguido por hífen\n",
    "    \n",
    "    ° ~= Procura por uma palavra"
   ]
  },
  {
   "cell_type": "markdown",
   "metadata": {},
   "source": [
    "# ID"
   ]
  },
  {
   "cell_type": "code",
   "execution_count": null,
   "metadata": {},
   "outputs": [
    {
     "data": {
      "text/plain": [
       "<selenium.webdriver.remote.webelement.WebElement (session=\"5f7491c5808dba94f63299eab4256d43\", element=\"f.62DFD7A47D6FE06297CC58DECA2B2634.d.37CB2B21DF6DB387D22E3D9D88379915.e.24\")>"
      ]
     },
     "execution_count": 3,
     "metadata": {},
     "output_type": "execute_result"
    }
   ],
   "source": [
    "driver.find_element(By.CSS_SELECTOR, 'div#social')\n",
    "# Com o CSS_SELECTOR você pode colocar varios parâmetros para encontrar algum elemento"
   ]
  },
  {
   "cell_type": "markdown",
   "metadata": {},
   "source": [
    "# CLASS"
   ]
  },
  {
   "cell_type": "code",
   "execution_count": 16,
   "metadata": {},
   "outputs": [
    {
     "data": {
      "text/plain": [
       "[<selenium.webdriver.remote.webelement.WebElement (session=\"5f7491c5808dba94f63299eab4256d43\", element=\"f.62DFD7A47D6FE06297CC58DECA2B2634.d.37CB2B21DF6DB387D22E3D9D88379915.e.9\")>,\n",
       " <selenium.webdriver.remote.webelement.WebElement (session=\"5f7491c5808dba94f63299eab4256d43\", element=\"f.62DFD7A47D6FE06297CC58DECA2B2634.d.37CB2B21DF6DB387D22E3D9D88379915.e.10\")>]"
      ]
     },
     "execution_count": 16,
     "metadata": {},
     "output_type": "execute_result"
    }
   ],
   "source": [
    "driver.find_elements(By.CSS_SELECTOR, 'input.styled-input.optional-info')"
   ]
  },
  {
   "cell_type": "markdown",
   "metadata": {},
   "source": [
    "# Parentesco"
   ]
  },
  {
   "cell_type": "code",
   "execution_count": 19,
   "metadata": {},
   "outputs": [
    {
     "data": {
      "text/plain": [
       "[<selenium.webdriver.remote.webelement.WebElement (session=\"5f7491c5808dba94f63299eab4256d43\", element=\"f.62DFD7A47D6FE06297CC58DECA2B2634.d.37CB2B21DF6DB387D22E3D9D88379915.e.9\")>,\n",
       " <selenium.webdriver.remote.webelement.WebElement (session=\"5f7491c5808dba94f63299eab4256d43\", element=\"f.62DFD7A47D6FE06297CC58DECA2B2634.d.37CB2B21DF6DB387D22E3D9D88379915.e.10\")>]"
      ]
     },
     "execution_count": 19,
     "metadata": {},
     "output_type": "execute_result"
    }
   ],
   "source": [
    "driver.find_elements(By.CSS_SELECTOR, 'div.main-container input.optional-info')\n",
    "# O espaço entre parâmetros significa que deseja pegar um elementos descendente do anterior ao espaço"
   ]
  },
  {
   "cell_type": "code",
   "execution_count": null,
   "metadata": {},
   "outputs": [
    {
     "data": {
      "text/plain": [
       "[<selenium.webdriver.remote.webelement.WebElement (session=\"5f7491c5808dba94f63299eab4256d43\", element=\"f.62DFD7A47D6FE06297CC58DECA2B2634.d.37CB2B21DF6DB387D22E3D9D88379915.e.154\")>,\n",
       " <selenium.webdriver.remote.webelement.WebElement (session=\"5f7491c5808dba94f63299eab4256d43\", element=\"f.62DFD7A47D6FE06297CC58DECA2B2634.d.37CB2B21DF6DB387D22E3D9D88379915.e.25\")>,\n",
       " <selenium.webdriver.remote.webelement.WebElement (session=\"5f7491c5808dba94f63299eab4256d43\", element=\"f.62DFD7A47D6FE06297CC58DECA2B2634.d.37CB2B21DF6DB387D22E3D9D88379915.e.157\")>,\n",
       " <selenium.webdriver.remote.webelement.WebElement (session=\"5f7491c5808dba94f63299eab4256d43\", element=\"f.62DFD7A47D6FE06297CC58DECA2B2634.d.37CB2B21DF6DB387D22E3D9D88379915.e.26\")>,\n",
       " <selenium.webdriver.remote.webelement.WebElement (session=\"5f7491c5808dba94f63299eab4256d43\", element=\"f.62DFD7A47D6FE06297CC58DECA2B2634.d.37CB2B21DF6DB387D22E3D9D88379915.e.160\")>]"
      ]
     },
     "execution_count": 20,
     "metadata": {},
     "output_type": "execute_result"
    }
   ],
   "source": [
    "driver.find_elements(By.CSS_SELECTOR, 'div#social > a')\n",
    "# O sinal de maior seleciona todos os elementos que são filhos diretos do primeiro citado"
   ]
  },
  {
   "cell_type": "code",
   "execution_count": 22,
   "metadata": {},
   "outputs": [
    {
     "data": {
      "text/plain": [
       "[<selenium.webdriver.remote.webelement.WebElement (session=\"5f7491c5808dba94f63299eab4256d43\", element=\"f.62DFD7A47D6FE06297CC58DECA2B2634.d.37CB2B21DF6DB387D22E3D9D88379915.e.3\")>,\n",
       " <selenium.webdriver.remote.webelement.WebElement (session=\"5f7491c5808dba94f63299eab4256d43\", element=\"f.62DFD7A47D6FE06297CC58DECA2B2634.d.37CB2B21DF6DB387D22E3D9D88379915.e.19\")>,\n",
       " <selenium.webdriver.remote.webelement.WebElement (session=\"5f7491c5808dba94f63299eab4256d43\", element=\"f.62DFD7A47D6FE06297CC58DECA2B2634.d.37CB2B21DF6DB387D22E3D9D88379915.e.4\")>,\n",
       " <selenium.webdriver.remote.webelement.WebElement (session=\"5f7491c5808dba94f63299eab4256d43\", element=\"f.62DFD7A47D6FE06297CC58DECA2B2634.d.37CB2B21DF6DB387D22E3D9D88379915.e.5\")>,\n",
       " <selenium.webdriver.remote.webelement.WebElement (session=\"5f7491c5808dba94f63299eab4256d43\", element=\"f.62DFD7A47D6FE06297CC58DECA2B2634.d.37CB2B21DF6DB387D22E3D9D88379915.e.151\")>,\n",
       " <selenium.webdriver.remote.webelement.WebElement (session=\"5f7491c5808dba94f63299eab4256d43\", element=\"f.62DFD7A47D6FE06297CC58DECA2B2634.d.37CB2B21DF6DB387D22E3D9D88379915.e.33\")>,\n",
       " <selenium.webdriver.remote.webelement.WebElement (session=\"5f7491c5808dba94f63299eab4256d43\", element=\"f.62DFD7A47D6FE06297CC58DECA2B2634.d.37CB2B21DF6DB387D22E3D9D88379915.e.7\")>,\n",
       " <selenium.webdriver.remote.webelement.WebElement (session=\"5f7491c5808dba94f63299eab4256d43\", element=\"f.62DFD7A47D6FE06297CC58DECA2B2634.d.37CB2B21DF6DB387D22E3D9D88379915.e.21\")>,\n",
       " <selenium.webdriver.remote.webelement.WebElement (session=\"5f7491c5808dba94f63299eab4256d43\", element=\"f.62DFD7A47D6FE06297CC58DECA2B2634.d.37CB2B21DF6DB387D22E3D9D88379915.e.8\")>,\n",
       " <selenium.webdriver.remote.webelement.WebElement (session=\"5f7491c5808dba94f63299eab4256d43\", element=\"f.62DFD7A47D6FE06297CC58DECA2B2634.d.37CB2B21DF6DB387D22E3D9D88379915.e.22\")>,\n",
       " <selenium.webdriver.remote.webelement.WebElement (session=\"5f7491c5808dba94f63299eab4256d43\", element=\"f.62DFD7A47D6FE06297CC58DECA2B2634.d.37CB2B21DF6DB387D22E3D9D88379915.e.9\")>,\n",
       " <selenium.webdriver.remote.webelement.WebElement (session=\"5f7491c5808dba94f63299eab4256d43\", element=\"f.62DFD7A47D6FE06297CC58DECA2B2634.d.37CB2B21DF6DB387D22E3D9D88379915.e.23\")>,\n",
       " <selenium.webdriver.remote.webelement.WebElement (session=\"5f7491c5808dba94f63299eab4256d43\", element=\"f.62DFD7A47D6FE06297CC58DECA2B2634.d.37CB2B21DF6DB387D22E3D9D88379915.e.10\")>,\n",
       " <selenium.webdriver.remote.webelement.WebElement (session=\"5f7491c5808dba94f63299eab4256d43\", element=\"f.62DFD7A47D6FE06297CC58DECA2B2634.d.37CB2B21DF6DB387D22E3D9D88379915.e.11\")>,\n",
       " <selenium.webdriver.remote.webelement.WebElement (session=\"5f7491c5808dba94f63299eab4256d43\", element=\"f.62DFD7A47D6FE06297CC58DECA2B2634.d.37CB2B21DF6DB387D22E3D9D88379915.e.24\")>,\n",
       " <selenium.webdriver.remote.webelement.WebElement (session=\"5f7491c5808dba94f63299eab4256d43\", element=\"f.62DFD7A47D6FE06297CC58DECA2B2634.d.37CB2B21DF6DB387D22E3D9D88379915.e.154\")>,\n",
       " <selenium.webdriver.remote.webelement.WebElement (session=\"5f7491c5808dba94f63299eab4256d43\", element=\"f.62DFD7A47D6FE06297CC58DECA2B2634.d.37CB2B21DF6DB387D22E3D9D88379915.e.155\")>,\n",
       " <selenium.webdriver.remote.webelement.WebElement (session=\"5f7491c5808dba94f63299eab4256d43\", element=\"f.62DFD7A47D6FE06297CC58DECA2B2634.d.37CB2B21DF6DB387D22E3D9D88379915.e.12\")>,\n",
       " <selenium.webdriver.remote.webelement.WebElement (session=\"5f7491c5808dba94f63299eab4256d43\", element=\"f.62DFD7A47D6FE06297CC58DECA2B2634.d.37CB2B21DF6DB387D22E3D9D88379915.e.25\")>,\n",
       " <selenium.webdriver.remote.webelement.WebElement (session=\"5f7491c5808dba94f63299eab4256d43\", element=\"f.62DFD7A47D6FE06297CC58DECA2B2634.d.37CB2B21DF6DB387D22E3D9D88379915.e.156\")>,\n",
       " <selenium.webdriver.remote.webelement.WebElement (session=\"5f7491c5808dba94f63299eab4256d43\", element=\"f.62DFD7A47D6FE06297CC58DECA2B2634.d.37CB2B21DF6DB387D22E3D9D88379915.e.13\")>,\n",
       " <selenium.webdriver.remote.webelement.WebElement (session=\"5f7491c5808dba94f63299eab4256d43\", element=\"f.62DFD7A47D6FE06297CC58DECA2B2634.d.37CB2B21DF6DB387D22E3D9D88379915.e.157\")>,\n",
       " <selenium.webdriver.remote.webelement.WebElement (session=\"5f7491c5808dba94f63299eab4256d43\", element=\"f.62DFD7A47D6FE06297CC58DECA2B2634.d.37CB2B21DF6DB387D22E3D9D88379915.e.158\")>,\n",
       " <selenium.webdriver.remote.webelement.WebElement (session=\"5f7491c5808dba94f63299eab4256d43\", element=\"f.62DFD7A47D6FE06297CC58DECA2B2634.d.37CB2B21DF6DB387D22E3D9D88379915.e.14\")>,\n",
       " <selenium.webdriver.remote.webelement.WebElement (session=\"5f7491c5808dba94f63299eab4256d43\", element=\"f.62DFD7A47D6FE06297CC58DECA2B2634.d.37CB2B21DF6DB387D22E3D9D88379915.e.26\")>,\n",
       " <selenium.webdriver.remote.webelement.WebElement (session=\"5f7491c5808dba94f63299eab4256d43\", element=\"f.62DFD7A47D6FE06297CC58DECA2B2634.d.37CB2B21DF6DB387D22E3D9D88379915.e.159\")>,\n",
       " <selenium.webdriver.remote.webelement.WebElement (session=\"5f7491c5808dba94f63299eab4256d43\", element=\"f.62DFD7A47D6FE06297CC58DECA2B2634.d.37CB2B21DF6DB387D22E3D9D88379915.e.15\")>,\n",
       " <selenium.webdriver.remote.webelement.WebElement (session=\"5f7491c5808dba94f63299eab4256d43\", element=\"f.62DFD7A47D6FE06297CC58DECA2B2634.d.37CB2B21DF6DB387D22E3D9D88379915.e.160\")>,\n",
       " <selenium.webdriver.remote.webelement.WebElement (session=\"5f7491c5808dba94f63299eab4256d43\", element=\"f.62DFD7A47D6FE06297CC58DECA2B2634.d.37CB2B21DF6DB387D22E3D9D88379915.e.161\")>,\n",
       " <selenium.webdriver.remote.webelement.WebElement (session=\"5f7491c5808dba94f63299eab4256d43\", element=\"f.62DFD7A47D6FE06297CC58DECA2B2634.d.37CB2B21DF6DB387D22E3D9D88379915.e.16\")>]"
      ]
     },
     "execution_count": 22,
     "metadata": {},
     "output_type": "execute_result"
    }
   ],
   "source": [
    "main_container = driver.find_elements(By.CSS_SELECTOR, 'div.main-container *')\n",
    "main_container"
   ]
  },
  {
   "cell_type": "code",
   "execution_count": 23,
   "metadata": {},
   "outputs": [
    {
     "name": "stdout",
     "output_type": "stream",
     "text": [
      "main → relative mx-auto max-w-sm w-full md:w-[90%] lg:max-w-[70vw]\n",
      "div → absolute inset-0 bg-gradient-to-r from-cyan-400 to-sky-500 bg-center shadow-xl rounded-lg -rotate-6 lg:-rotate-4\n",
      "div → relative bg-white dark:bg-gray-800 px-6 pt-10 pb-8 shadow-xl ring-1 ring-gray-900/5 rounded-lg sm:px-10\n",
      "div → relative mx-auto\n",
      "div → title\n",
      "label → block text-sm font-medium leading-6 text-gray-700 dark:text-white text-left \n",
      "input → block w-full rounded-md border-0 py-1.5 px-4 h-10 text-gray-700 ring-1 ring-inset ring-gray-300 bg-white placeholder:text-gray-400 focus:ring-2 focus:ring-inset focus:ring-cyan-600 sm:text-sm sm:leading-6 styled-input\n",
      "label → block text-sm font-medium leading-6 text-gray-700 dark:text-white text-left \n",
      "input → block w-full rounded-md border-0 py-1.5 px-4 h-10 text-gray-700 ring-1 ring-inset ring-gray-300 bg-white placeholder:text-gray-400 focus:ring-2 focus:ring-inset focus:ring-cyan-600 sm:text-sm sm:leading-6 styled-input\n",
      "label → block text-sm font-medium leading-6 text-gray-700 dark:text-white text-left \n",
      "input → block w-full rounded-md border-0 py-1.5 px-4 h-10 text-gray-700 ring-1 ring-inset ring-gray-300 bg-white placeholder:text-gray-400 focus:ring-2 focus:ring-inset focus:ring-cyan-600 sm:text-sm sm:leading-6 styled-input optional-info\n",
      "label → block text-sm font-medium leading-6 text-gray-700 dark:text-white text-left \n",
      "input → block w-full rounded-md border-0 py-1.5 px-4 h-10 text-gray-700 ring-1 ring-inset ring-gray-300 bg-white placeholder:text-gray-400 focus:ring-2 focus:ring-inset focus:ring-cyan-600 sm:text-sm sm:leading-6 styled-input optional-info\n",
      "label → block text-sm font-medium leading-6 text-gray-700 dark:text-white text-left \n",
      "div → grid grid-cols-2 lg:grid-cols-3 grid-flow-row gap-2 text-sm\n",
      "a → text-slate-700 dark:text-slate-100 hover:text-cyan-500 flex gap-2 items-center\n",
      "i → text-[20px] fi fi-brands-instagram\n",
      "span → \n",
      "a → text-slate-700 dark:text-slate-100 hover:text-cyan-500 flex gap-2 items-center\n",
      "i → text-[20px] fi fi-brands-facebook\n",
      "span → \n",
      "a → text-slate-700 dark:text-slate-100 hover:text-cyan-500 flex gap-2 items-center\n",
      "i → text-[20px] fi fi-brands-github\n",
      "span → \n",
      "a → text-slate-700 dark:text-slate-100 hover:text-cyan-500 flex gap-2 items-center\n",
      "i → text-[20px] fi fi-brands-youtube\n",
      "span → \n",
      "a → text-slate-700 dark:text-slate-100 hover:text-cyan-500 flex gap-2 items-center\n",
      "i → text-[20px] fi fi-brands-telegram\n",
      "span → \n"
     ]
    }
   ],
   "source": [
    "for mc in main_container:\n",
    "    print(mc.tag_name, '→', mc.get_attribute('class'))"
   ]
  },
  {
   "cell_type": "code",
   "execution_count": 27,
   "metadata": {},
   "outputs": [
    {
     "data": {
      "text/plain": [
       "[<selenium.webdriver.remote.webelement.WebElement (session=\"5f7491c5808dba94f63299eab4256d43\", element=\"f.62DFD7A47D6FE06297CC58DECA2B2634.d.37CB2B21DF6DB387D22E3D9D88379915.e.154\")>,\n",
       " <selenium.webdriver.remote.webelement.WebElement (session=\"5f7491c5808dba94f63299eab4256d43\", element=\"f.62DFD7A47D6FE06297CC58DECA2B2634.d.37CB2B21DF6DB387D22E3D9D88379915.e.25\")>,\n",
       " <selenium.webdriver.remote.webelement.WebElement (session=\"5f7491c5808dba94f63299eab4256d43\", element=\"f.62DFD7A47D6FE06297CC58DECA2B2634.d.37CB2B21DF6DB387D22E3D9D88379915.e.157\")>,\n",
       " <selenium.webdriver.remote.webelement.WebElement (session=\"5f7491c5808dba94f63299eab4256d43\", element=\"f.62DFD7A47D6FE06297CC58DECA2B2634.d.37CB2B21DF6DB387D22E3D9D88379915.e.26\")>,\n",
       " <selenium.webdriver.remote.webelement.WebElement (session=\"5f7491c5808dba94f63299eab4256d43\", element=\"f.62DFD7A47D6FE06297CC58DECA2B2634.d.37CB2B21DF6DB387D22E3D9D88379915.e.160\")>]"
      ]
     },
     "execution_count": 27,
     "metadata": {},
     "output_type": "execute_result"
    }
   ],
   "source": [
    "div_social = driver.find_elements(By.CSS_SELECTOR, 'div#social > *')\n",
    "div_social"
   ]
  },
  {
   "cell_type": "code",
   "execution_count": 28,
   "metadata": {},
   "outputs": [
    {
     "name": "stdout",
     "output_type": "stream",
     "text": [
      "a → text-slate-700 dark:text-slate-100 hover:text-cyan-500 flex gap-2 items-center\n",
      "a → text-slate-700 dark:text-slate-100 hover:text-cyan-500 flex gap-2 items-center\n",
      "a → text-slate-700 dark:text-slate-100 hover:text-cyan-500 flex gap-2 items-center\n",
      "a → text-slate-700 dark:text-slate-100 hover:text-cyan-500 flex gap-2 items-center\n",
      "a → text-slate-700 dark:text-slate-100 hover:text-cyan-500 flex gap-2 items-center\n"
     ]
    }
   ],
   "source": [
    "for ds in div_social:\n",
    "    print(ds.tag_name, '→', ds.get_attribute('class'))"
   ]
  },
  {
   "cell_type": "markdown",
   "metadata": {},
   "source": [
    "# Propriedades e atributos"
   ]
  },
  {
   "cell_type": "code",
   "execution_count": null,
   "metadata": {},
   "outputs": [
    {
     "data": {
      "text/plain": [
       "<selenium.webdriver.remote.webelement.WebElement (session=\"5f7491c5808dba94f63299eab4256d43\", element=\"f.62DFD7A47D6FE06297CC58DECA2B2634.d.37CB2B21DF6DB387D22E3D9D88379915.e.7\")>"
      ]
     },
     "execution_count": 29,
     "metadata": {},
     "output_type": "execute_result"
    }
   ],
   "source": [
    "driver.find_element(By.CSS_SELECTOR, 'input[name=\"fullname\"]')\n",
    "# Dessa forma podemos escolher a TAG que vamos buscar e também filtrar pelos elementos existentes dentro dessa TAG"
   ]
  },
  {
   "cell_type": "code",
   "execution_count": 30,
   "metadata": {},
   "outputs": [
    {
     "data": {
      "text/plain": [
       "[<selenium.webdriver.remote.webelement.WebElement (session=\"5f7491c5808dba94f63299eab4256d43\", element=\"f.62DFD7A47D6FE06297CC58DECA2B2634.d.37CB2B21DF6DB387D22E3D9D88379915.e.154\")>,\n",
       " <selenium.webdriver.remote.webelement.WebElement (session=\"5f7491c5808dba94f63299eab4256d43\", element=\"f.62DFD7A47D6FE06297CC58DECA2B2634.d.37CB2B21DF6DB387D22E3D9D88379915.e.25\")>,\n",
       " <selenium.webdriver.remote.webelement.WebElement (session=\"5f7491c5808dba94f63299eab4256d43\", element=\"f.62DFD7A47D6FE06297CC58DECA2B2634.d.37CB2B21DF6DB387D22E3D9D88379915.e.157\")>,\n",
       " <selenium.webdriver.remote.webelement.WebElement (session=\"5f7491c5808dba94f63299eab4256d43\", element=\"f.62DFD7A47D6FE06297CC58DECA2B2634.d.37CB2B21DF6DB387D22E3D9D88379915.e.26\")>,\n",
       " <selenium.webdriver.remote.webelement.WebElement (session=\"5f7491c5808dba94f63299eab4256d43\", element=\"f.62DFD7A47D6FE06297CC58DECA2B2634.d.37CB2B21DF6DB387D22E3D9D88379915.e.160\")>]"
      ]
     },
     "execution_count": 30,
     "metadata": {},
     "output_type": "execute_result"
    }
   ],
   "source": [
    "driver.find_elements(By.CSS_SELECTOR, 'a[href=\"#\"]')"
   ]
  },
  {
   "cell_type": "code",
   "execution_count": null,
   "metadata": {},
   "outputs": [
    {
     "data": {
      "text/plain": [
       "[<selenium.webdriver.remote.webelement.WebElement (session=\"5f7491c5808dba94f63299eab4256d43\", element=\"f.62DFD7A47D6FE06297CC58DECA2B2634.d.37CB2B21DF6DB387D22E3D9D88379915.e.9\")>,\n",
       " <selenium.webdriver.remote.webelement.WebElement (session=\"5f7491c5808dba94f63299eab4256d43\", element=\"f.62DFD7A47D6FE06297CC58DECA2B2634.d.37CB2B21DF6DB387D22E3D9D88379915.e.10\")>]"
      ]
     },
     "execution_count": 34,
     "metadata": {},
     "output_type": "execute_result"
    }
   ],
   "source": [
    "driver.find_elements(By.CSS_SELECTOR, 'input[disabled][data-optional=\"true\"]')\n",
    "# Também pode ser passado mais de um dos parâmetos dentro daa TAG"
   ]
  },
  {
   "cell_type": "markdown",
   "metadata": {},
   "source": [
    "# Sufixo"
   ]
  },
  {
   "cell_type": "code",
   "execution_count": 36,
   "metadata": {},
   "outputs": [
    {
     "data": {
      "text/plain": [
       "[<selenium.webdriver.remote.webelement.WebElement (session=\"5f7491c5808dba94f63299eab4256d43\", element=\"f.62DFD7A47D6FE06297CC58DECA2B2634.d.37CB2B21DF6DB387D22E3D9D88379915.e.10\")>]"
      ]
     },
     "execution_count": 36,
     "metadata": {},
     "output_type": "execute_result"
    }
   ],
   "source": [
    "driver.find_elements(By.CSS_SELECTOR, 'input[value$=\"ino\"]')"
   ]
  },
  {
   "cell_type": "code",
   "execution_count": null,
   "metadata": {},
   "outputs": [
    {
     "data": {
      "text/plain": [
       "[<selenium.webdriver.remote.webelement.WebElement (session=\"5f7491c5808dba94f63299eab4256d43\", element=\"f.62DFD7A47D6FE06297CC58DECA2B2634.d.37CB2B21DF6DB387D22E3D9D88379915.e.155\")>,\n",
       " <selenium.webdriver.remote.webelement.WebElement (session=\"5f7491c5808dba94f63299eab4256d43\", element=\"f.62DFD7A47D6FE06297CC58DECA2B2634.d.37CB2B21DF6DB387D22E3D9D88379915.e.161\")>]"
      ]
     },
     "execution_count": 39,
     "metadata": {},
     "output_type": "execute_result"
    }
   ],
   "source": [
    "gram = driver.find_elements(By.CSS_SELECTOR, '[class$=\"gram\"]')\n",
    "# O \"$=\" serve para pegar os elementos que contenham o valor passado em seu final\n",
    "gram"
   ]
  },
  {
   "cell_type": "code",
   "execution_count": 41,
   "metadata": {},
   "outputs": [
    {
     "name": "stdout",
     "output_type": "stream",
     "text": [
      "text-[20px] fi fi-brands-instagram\n",
      "text-[20px] fi fi-brands-telegram\n"
     ]
    }
   ],
   "source": [
    "for g in gram:\n",
    "    value = g.get_attribute('class')\n",
    "    print(value)"
   ]
  },
  {
   "cell_type": "markdown",
   "metadata": {},
   "source": [
    "# Prefixo"
   ]
  },
  {
   "cell_type": "code",
   "execution_count": null,
   "metadata": {},
   "outputs": [],
   "source": [
    "driver.find_elements(By.CSS_SELECTOR, '[name^=\"user\"]')\n",
    "# O \"^=\" serve para pegar os elementos que contenham o valor passado em seu começo"
   ]
  },
  {
   "cell_type": "code",
   "execution_count": 44,
   "metadata": {},
   "outputs": [
    {
     "data": {
      "text/plain": [
       "[<selenium.webdriver.remote.webelement.WebElement (session=\"5f7491c5808dba94f63299eab4256d43\", element=\"f.62DFD7A47D6FE06297CC58DECA2B2634.d.37CB2B21DF6DB387D22E3D9D88379915.e.61\")>,\n",
       " <selenium.webdriver.remote.webelement.WebElement (session=\"5f7491c5808dba94f63299eab4256d43\", element=\"f.62DFD7A47D6FE06297CC58DECA2B2634.d.37CB2B21DF6DB387D22E3D9D88379915.e.154\")>,\n",
       " <selenium.webdriver.remote.webelement.WebElement (session=\"5f7491c5808dba94f63299eab4256d43\", element=\"f.62DFD7A47D6FE06297CC58DECA2B2634.d.37CB2B21DF6DB387D22E3D9D88379915.e.155\")>,\n",
       " <selenium.webdriver.remote.webelement.WebElement (session=\"5f7491c5808dba94f63299eab4256d43\", element=\"f.62DFD7A47D6FE06297CC58DECA2B2634.d.37CB2B21DF6DB387D22E3D9D88379915.e.25\")>,\n",
       " <selenium.webdriver.remote.webelement.WebElement (session=\"5f7491c5808dba94f63299eab4256d43\", element=\"f.62DFD7A47D6FE06297CC58DECA2B2634.d.37CB2B21DF6DB387D22E3D9D88379915.e.156\")>,\n",
       " <selenium.webdriver.remote.webelement.WebElement (session=\"5f7491c5808dba94f63299eab4256d43\", element=\"f.62DFD7A47D6FE06297CC58DECA2B2634.d.37CB2B21DF6DB387D22E3D9D88379915.e.157\")>,\n",
       " <selenium.webdriver.remote.webelement.WebElement (session=\"5f7491c5808dba94f63299eab4256d43\", element=\"f.62DFD7A47D6FE06297CC58DECA2B2634.d.37CB2B21DF6DB387D22E3D9D88379915.e.158\")>,\n",
       " <selenium.webdriver.remote.webelement.WebElement (session=\"5f7491c5808dba94f63299eab4256d43\", element=\"f.62DFD7A47D6FE06297CC58DECA2B2634.d.37CB2B21DF6DB387D22E3D9D88379915.e.26\")>,\n",
       " <selenium.webdriver.remote.webelement.WebElement (session=\"5f7491c5808dba94f63299eab4256d43\", element=\"f.62DFD7A47D6FE06297CC58DECA2B2634.d.37CB2B21DF6DB387D22E3D9D88379915.e.159\")>,\n",
       " <selenium.webdriver.remote.webelement.WebElement (session=\"5f7491c5808dba94f63299eab4256d43\", element=\"f.62DFD7A47D6FE06297CC58DECA2B2634.d.37CB2B21DF6DB387D22E3D9D88379915.e.160\")>,\n",
       " <selenium.webdriver.remote.webelement.WebElement (session=\"5f7491c5808dba94f63299eab4256d43\", element=\"f.62DFD7A47D6FE06297CC58DECA2B2634.d.37CB2B21DF6DB387D22E3D9D88379915.e.161\")>]"
      ]
     },
     "execution_count": 44,
     "metadata": {},
     "output_type": "execute_result"
    }
   ],
   "source": [
    "text_class = driver.find_elements(By.CSS_SELECTOR, '[class|=\"text\"]')\n",
    "text_class"
   ]
  },
  {
   "cell_type": "code",
   "execution_count": 45,
   "metadata": {},
   "outputs": [
    {
     "name": "stdout",
     "output_type": "stream",
     "text": [
      "div → text-center flex\n",
      "a → text-slate-700 dark:text-slate-100 hover:text-cyan-500 flex gap-2 items-center\n",
      "i → text-[20px] fi fi-brands-instagram\n",
      "a → text-slate-700 dark:text-slate-100 hover:text-cyan-500 flex gap-2 items-center\n",
      "i → text-[20px] fi fi-brands-facebook\n",
      "a → text-slate-700 dark:text-slate-100 hover:text-cyan-500 flex gap-2 items-center\n",
      "i → text-[20px] fi fi-brands-github\n",
      "a → text-slate-700 dark:text-slate-100 hover:text-cyan-500 flex gap-2 items-center\n",
      "i → text-[20px] fi fi-brands-youtube\n",
      "a → text-slate-700 dark:text-slate-100 hover:text-cyan-500 flex gap-2 items-center\n",
      "i → text-[20px] fi fi-brands-telegram\n"
     ]
    }
   ],
   "source": [
    "for tc in text_class:\n",
    "    print(tc.tag_name, '→', tc.get_attribute('class'))"
   ]
  },
  {
   "cell_type": "markdown",
   "metadata": {},
   "source": [
    "# Substring"
   ]
  },
  {
   "cell_type": "code",
   "execution_count": 49,
   "metadata": {},
   "outputs": [
    {
     "data": {
      "text/plain": [
       "[<selenium.webdriver.remote.webelement.WebElement (session=\"5f7491c5808dba94f63299eab4256d43\", element=\"f.62DFD7A47D6FE06297CC58DECA2B2634.d.37CB2B21DF6DB387D22E3D9D88379915.e.7\")>,\n",
       " <selenium.webdriver.remote.webelement.WebElement (session=\"5f7491c5808dba94f63299eab4256d43\", element=\"f.62DFD7A47D6FE06297CC58DECA2B2634.d.37CB2B21DF6DB387D22E3D9D88379915.e.8\")>,\n",
       " <selenium.webdriver.remote.webelement.WebElement (session=\"5f7491c5808dba94f63299eab4256d43\", element=\"f.62DFD7A47D6FE06297CC58DECA2B2634.d.37CB2B21DF6DB387D22E3D9D88379915.e.10\")>]"
      ]
     },
     "execution_count": 49,
     "metadata": {},
     "output_type": "execute_result"
    }
   ],
   "source": [
    "contains_e = driver.find_elements(By.CSS_SELECTOR, 'input[id*=\"e\"]')\n",
    "# O \"*=\" serve para achar componentes que estejam em qualquer lugar do elemento que deseja encontrar\n",
    "contains_e"
   ]
  },
  {
   "cell_type": "code",
   "execution_count": 50,
   "metadata": {},
   "outputs": [
    {
     "name": "stdout",
     "output_type": "stream",
     "text": [
      "Sra. Ana Júlia Melo\n",
      "Humano Branding Técnico\n",
      "Feminino\n"
     ]
    }
   ],
   "source": [
    "for ce in contains_e:\n",
    "    value = ce.get_property('value')\n",
    "    print(value)"
   ]
  }
 ],
 "metadata": {
  "kernelspec": {
   "display_name": "venv",
   "language": "python",
   "name": "python3"
  },
  "language_info": {
   "codemirror_mode": {
    "name": "ipython",
    "version": 3
   },
   "file_extension": ".py",
   "mimetype": "text/x-python",
   "name": "python",
   "nbconvert_exporter": "python",
   "pygments_lexer": "ipython3",
   "version": "3.12.7"
  }
 },
 "nbformat": 4,
 "nbformat_minor": 2
}
