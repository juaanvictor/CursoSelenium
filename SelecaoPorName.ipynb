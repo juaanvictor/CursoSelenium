{
 "cells": [
  {
   "cell_type": "code",
   "execution_count": 1,
   "metadata": {},
   "outputs": [],
   "source": [
    "from selenium.webdriver.common.by import By\n",
    "from selenium import webdriver\n",
    "\n",
    "driver = webdriver.Chrome()"
   ]
  },
  {
   "cell_type": "code",
   "execution_count": 2,
   "metadata": {},
   "outputs": [],
   "source": [
    "driver.get('http://localhost:8000/#/exemplo/1')"
   ]
  },
  {
   "cell_type": "code",
   "execution_count": 13,
   "metadata": {},
   "outputs": [],
   "source": [
    "nome = driver.find_element(By.NAME, 'fullname').get_property('value')\n",
    "profissao = driver.find_element(By.NAME, 'role').get_property('value')\n",
    "signo = driver.find_element(By.NAME, 'zodiacSign').get_property('value')\n",
    "genero = driver.find_element(By.NAME, 'genderOfBirth').get_property('value')"
   ]
  },
  {
   "cell_type": "code",
   "execution_count": 15,
   "metadata": {},
   "outputs": [
    {
     "name": "stdout",
     "output_type": "stream",
     "text": [
      "\n",
      "    nome='Gabriel Albuquerque'\n",
      "    profissao='Global Identidade Engenheiro'\n",
      "    signo='Áries'\n",
      "    genero='Feminino'\n",
      "\n"
     ]
    }
   ],
   "source": [
    "print(f'''\n",
    "    {nome=}\n",
    "    {profissao=}\n",
    "    {signo=}\n",
    "    {genero=}\n",
    "''')"
   ]
  }
 ],
 "metadata": {
  "kernelspec": {
   "display_name": "venv",
   "language": "python",
   "name": "python3"
  },
  "language_info": {
   "codemirror_mode": {
    "name": "ipython",
    "version": 3
   },
   "file_extension": ".py",
   "mimetype": "text/x-python",
   "name": "python",
   "nbconvert_exporter": "python",
   "pygments_lexer": "ipython3",
   "version": "3.12.7"
  }
 },
 "nbformat": 4,
 "nbformat_minor": 2
}
