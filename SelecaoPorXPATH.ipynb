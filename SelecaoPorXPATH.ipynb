{
 "cells": [
  {
   "cell_type": "code",
   "execution_count": 3,
   "metadata": {},
   "outputs": [],
   "source": [
    "from selenium.webdriver.common.by import By\n",
    "from selenium import webdriver\n",
    "\n",
    "driver = webdriver.Chrome()"
   ]
  },
  {
   "cell_type": "code",
   "execution_count": 4,
   "metadata": {},
   "outputs": [],
   "source": [
    "driver.get('http://localhost:8000/#/exemplo/1')"
   ]
  },
  {
   "cell_type": "markdown",
   "metadata": {},
   "source": [
    "# 1. Caminho absoluto"
   ]
  },
  {
   "cell_type": "code",
   "execution_count": null,
   "metadata": {},
   "outputs": [],
   "source": [
    "driver.find_elements(By.XPATH, '/html/body/div/div/div[2]')\n",
    "# Nessa maneira de pesquisar você irá descrever o caminho até o elemento que deseja, porcorrendo de tag filha em tag filha\n",
    "# Quando tiver duas tags filhas iguais, independente de suas especificações você irá passar a tag + a posição em que se encontra. Exemplo: /span[3] (se quiser o terceiro span).\n",
    "# Essa é a maneira mais dificil"
   ]
  },
  {
   "cell_type": "markdown",
   "metadata": {},
   "source": [
    "# 2. Buscar por TAG"
   ]
  },
  {
   "cell_type": "code",
   "execution_count": null,
   "metadata": {},
   "outputs": [
    {
     "data": {
      "text/plain": [
       "[<selenium.webdriver.remote.webelement.WebElement (session=\"1c86108146aa579fca28e9c4038c590c\", element=\"f.8E841BD099226822FCA5F63730208EF7.d.8E459891ED25F15D144EDFB616FEAA37.e.49\")>,\n",
       " <selenium.webdriver.remote.webelement.WebElement (session=\"1c86108146aa579fca28e9c4038c590c\", element=\"f.8E841BD099226822FCA5F63730208EF7.d.8E459891ED25F15D144EDFB616FEAA37.e.50\")>,\n",
       " <selenium.webdriver.remote.webelement.WebElement (session=\"1c86108146aa579fca28e9c4038c590c\", element=\"f.8E841BD099226822FCA5F63730208EF7.d.8E459891ED25F15D144EDFB616FEAA37.e.51\")>,\n",
       " <selenium.webdriver.remote.webelement.WebElement (session=\"1c86108146aa579fca28e9c4038c590c\", element=\"f.8E841BD099226822FCA5F63730208EF7.d.8E459891ED25F15D144EDFB616FEAA37.e.52\")>]"
      ]
     },
     "execution_count": 9,
     "metadata": {},
     "output_type": "execute_result"
    }
   ],
   "source": [
    "driver.find_elements(By.XPATH, '//input')\n",
    "\n",
    "# Dessa maneira o programa retornara todos os elementos com a TAG pesquisada."
   ]
  },
  {
   "cell_type": "markdown",
   "metadata": {},
   "source": [
    "# 3. Buscar por posição"
   ]
  },
  {
   "cell_type": "code",
   "execution_count": 14,
   "metadata": {},
   "outputs": [
    {
     "data": {
      "text/plain": [
       "[<selenium.webdriver.remote.webelement.WebElement (session=\"1c86108146aa579fca28e9c4038c590c\", element=\"f.8E841BD099226822FCA5F63730208EF7.d.8E459891ED25F15D144EDFB616FEAA37.e.51\")>,\n",
       " <selenium.webdriver.remote.webelement.WebElement (session=\"1c86108146aa579fca28e9c4038c590c\", element=\"f.8E841BD099226822FCA5F63730208EF7.d.8E459891ED25F15D144EDFB616FEAA37.e.52\")>]"
      ]
     },
     "execution_count": 14,
     "metadata": {},
     "output_type": "execute_result"
    }
   ],
   "source": [
    "inputs = driver.find_elements(By.XPATH, '//input[3] | //input[4]')\n",
    "# No exemplo acima é retornada uma lista de elementos com a TAG pesquisada\n",
    "# Aproveitando essa lista é possível escolher qual dos elementos que você quer pela posição em que foram passados pela lista\n",
    "# A barra no meio significa \"ou\", com ela é possível fazer com que o programa retorne duas TAGs da lista.\n",
    "inputs"
   ]
  },
  {
   "cell_type": "code",
   "execution_count": 15,
   "metadata": {},
   "outputs": [
    {
     "name": "stdout",
     "output_type": "stream",
     "text": [
      "Gêmeos\n",
      "Masculino\n"
     ]
    }
   ],
   "source": [
    "for i in inputs:\n",
    "    value = i.get_property('value')\n",
    "    print(value)"
   ]
  },
  {
   "cell_type": "markdown",
   "metadata": {},
   "source": [
    "# 4. Buscando por atributos"
   ]
  },
  {
   "cell_type": "code",
   "execution_count": 17,
   "metadata": {},
   "outputs": [
    {
     "data": {
      "text/plain": [
       "[<selenium.webdriver.remote.webelement.WebElement (session=\"1c86108146aa579fca28e9c4038c590c\", element=\"f.8E841BD099226822FCA5F63730208EF7.d.8E459891ED25F15D144EDFB616FEAA37.e.49\")>]"
      ]
     },
     "execution_count": 17,
     "metadata": {},
     "output_type": "execute_result"
    }
   ],
   "source": [
    "driver.find_elements(By.XPATH, '//input[@id=\"user\"]')\n",
    "# Ao fazer uma busca por atributos é necessário colocar um @ antes de passar o parâmetro"
   ]
  },
  {
   "cell_type": "code",
   "execution_count": null,
   "metadata": {},
   "outputs": [
    {
     "data": {
      "text/plain": [
       "[<selenium.webdriver.remote.webelement.WebElement (session=\"1c86108146aa579fca28e9c4038c590c\", element=\"f.8E841BD099226822FCA5F63730208EF7.d.8E459891ED25F15D144EDFB616FEAA37.e.191\")>]"
      ]
     },
     "execution_count": 20,
     "metadata": {},
     "output_type": "execute_result"
    }
   ],
   "source": [
    "driver.find_elements(By.XPATH, '//div[@id=\"social\"]/a[1]')\n",
    "# utilizando apenas uma barra / para pesquisa você pega apenas os descendentes diretos da TAG solicitada\n",
    "# Utilizando duas barras // você pega todos os descendentes da TAG solicitada, independente se são diretos ou não."
   ]
  }
 ],
 "metadata": {
  "kernelspec": {
   "display_name": "venv",
   "language": "python",
   "name": "python3"
  },
  "language_info": {
   "codemirror_mode": {
    "name": "ipython",
    "version": 3
   },
   "file_extension": ".py",
   "mimetype": "text/x-python",
   "name": "python",
   "nbconvert_exporter": "python",
   "pygments_lexer": "ipython3",
   "version": "3.12.7"
  }
 },
 "nbformat": 4,
 "nbformat_minor": 2
}
