{
 "cells": [
  {
   "cell_type": "code",
   "execution_count": 91,
   "metadata": {},
   "outputs": [],
   "source": [
    "from selenium.webdriver.common.by import By\n",
    "from selenium import webdriver\n",
    "from selenium.webdriver.support.ui import Select\n",
    "\n",
    "driver = webdriver.Chrome()"
   ]
  },
  {
   "cell_type": "code",
   "execution_count": 92,
   "metadata": {},
   "outputs": [],
   "source": [
    "driver.get('http://localhost:8000/#/desafio/1')"
   ]
  },
  {
   "cell_type": "code",
   "execution_count": 93,
   "metadata": {},
   "outputs": [
    {
     "data": {
      "text/plain": [
       "(['lda-mota@example.net',\n",
       "  'sda-luz@example.org',\n",
       "  'daniela00@example.com',\n",
       "  'nogueiralorenzo@example.com',\n",
       "  'gcardoso@example.net',\n",
       "  'lorenzoaragao@example.org',\n",
       "  'sofia65@example.org',\n",
       "  'joao08@example.com',\n",
       "  'wduarte@example.org',\n",
       "  'mariada-rocha@example.com'],\n",
       " ['*V03BSlEA*',\n",
       "  'Qa8_2C0o5_',\n",
       "  'zZz4@J3ec@',\n",
       "  '%8h&@B6IgJ',\n",
       "  'OAHsP2Eu_h',\n",
       "  '240iCRzfO_',\n",
       "  '!ytSm4@x0w',\n",
       "  'J4d5A5nD)A',\n",
       "  '$V0TkvNYzd',\n",
       "  '%0t$9CKq3P'],\n",
       " ['27', '16', '24', '14', '20', '10', '1', '27', '2', '10'],\n",
       " ['7', '6', '7', '7', '3', '11', '5', '9', '4', '8'],\n",
       " ['1983',\n",
       "  '2003',\n",
       "  '1971',\n",
       "  '1996',\n",
       "  '1990',\n",
       "  '1998',\n",
       "  '1971',\n",
       "  '1954',\n",
       "  '1979',\n",
       "  '2003'],\n",
       " [0, 1, 1, 1, 1, 1, 1, 0, 0, 1],\n",
       " 10)"
      ]
     },
     "execution_count": 93,
     "metadata": {},
     "output_type": "execute_result"
    }
   ],
   "source": [
    "list_email = ['lda-mota@example.net', 'sda-luz@example.org', 'daniela00@example.com', 'nogueiralorenzo@example.com', 'gcardoso@example.net', 'lorenzoaragao@example.org', 'sofia65@example.org', 'joao08@example.com', 'wduarte@example.org', 'mariada-rocha@example.com']\n",
    "list_password = ['*V03BSlEA*', 'Qa8_2C0o5_', 'zZz4@J3ec@', '%8h&@B6IgJ', 'OAHsP2Eu_h', '240iCRzfO_', '!ytSm4@x0w', 'J4d5A5nD)A', '$V0TkvNYzd', '%0t$9CKq3P']\n",
    "list_day = ['27', '16', '24', '14', '20', '10', '1', '27', '2', '10']\n",
    "list_month = ['7', '6', '7', '7', '3', '11', '5', '9', '4', '8']\n",
    "list_year = ['1983', '2003', '1971', '1996', '1990', '1998', '1971', '1954', '1979', '2003']\n",
    "list_newsletter = [0, 1, 1, 1, 1, 1, 1, 0, 0, 1]\n",
    "cont = 0\n",
    "list_size = len(list_email)\n",
    "\n",
    "list_email, list_password, list_day, list_month, list_year, list_newsletter, list_size"
   ]
  },
  {
   "cell_type": "code",
   "execution_count": 94,
   "metadata": {},
   "outputs": [
    {
     "data": {
      "text/plain": [
       "(<selenium.webdriver.remote.webelement.WebElement (session=\"eef844ab64c52bd61e653e34a4613d62\", element=\"f.8062F7ADF5B5958E8C4F4F5E02CB115C.d.C16FFB1EF223D435555D8BDEB81D959E.e.5\")>,\n",
       " <selenium.webdriver.remote.webelement.WebElement (session=\"eef844ab64c52bd61e653e34a4613d62\", element=\"f.8062F7ADF5B5958E8C4F4F5E02CB115C.d.C16FFB1EF223D435555D8BDEB81D959E.e.6\")>,\n",
       " <selenium.webdriver.support.select.Select at 0x273510328a0>,\n",
       " <selenium.webdriver.support.select.Select at 0x273513917c0>,\n",
       " <selenium.webdriver.support.select.Select at 0x273512fee40>,\n",
       " <selenium.webdriver.remote.webelement.WebElement (session=\"eef844ab64c52bd61e653e34a4613d62\", element=\"f.8062F7ADF5B5958E8C4F4F5E02CB115C.d.C16FFB1EF223D435555D8BDEB81D959E.e.12\")>)"
      ]
     },
     "execution_count": 94,
     "metadata": {},
     "output_type": "execute_result"
    }
   ],
   "source": [
    "email = driver.find_element(By.ID, 'radix-:r0:')\n",
    "password = driver.find_element(By.ID, 'radix-:r1:')\n",
    "select_day = Select(driver.find_element(By.ID, 'radix-:r2:'))\n",
    "select_mouth = Select(driver.find_element(By.ID, 'radix-:r3:'))\n",
    "select_year = Select(driver.find_element(By.ID, 'radix-:r4:'))\n",
    "button_newsletter = driver.find_element(By.ID, 'airplane-mode')\n",
    "\n",
    "email, password, select_day, select_mouth, select_year, button_newsletter"
   ]
  },
  {
   "cell_type": "code",
   "execution_count": 95,
   "metadata": {},
   "outputs": [],
   "source": [
    "while list_size > 0:\n",
    "    email.clear()\n",
    "    password.clear()\n",
    "    email.send_keys(list_email[cont])\n",
    "    password.send_keys(list_password[cont])\n",
    "    select_day.select_by_visible_text(list_day[cont])\n",
    "    select_mouth.select_by_visible_text(list_month[cont])\n",
    "    select_year.select_by_visible_text(list_year[cont])\n",
    "    if list_newsletter[cont] == 0:\n",
    "        email.submit()\n",
    "        cont+=1\n",
    "        list_size -= 1\n",
    "    elif list_newsletter[cont] == 1:\n",
    "        button_newsletter.click()\n",
    "        email.submit()\n",
    "        button_newsletter.click()\n",
    "        cont += 1\n",
    "        list_size -= 1\n",
    "\n",
    "    "
   ]
  },
  {
   "cell_type": "markdown",
   "metadata": {},
   "source": [
    "# Resolução Professor"
   ]
  },
  {
   "cell_type": "code",
   "execution_count": null,
   "metadata": {},
   "outputs": [],
   "source": [
    "import json\n",
    "\n",
    "with open('./desafio_1.json') as file:\n",
    "    data = json.load(file)"
   ]
  },
  {
   "cell_type": "code",
   "execution_count": null,
   "metadata": {},
   "outputs": [],
   "source": [
    "email = driver.find_element(By.NAME, 'email')\n",
    "senha = driver.find_element(By.NAME, 'senha')"
   ]
  },
  {
   "cell_type": "code",
   "execution_count": null,
   "metadata": {},
   "outputs": [],
   "source": [
    "email.send_keys(data[0]['email'])"
   ]
  },
  {
   "cell_type": "code",
   "execution_count": null,
   "metadata": {},
   "outputs": [],
   "source": [
    "email.send_keys(data[0]['email'])"
   ]
  },
  {
   "cell_type": "code",
   "execution_count": null,
   "metadata": {},
   "outputs": [],
   "source": [
    "data[0]['data-de-nascimento']"
   ]
  },
  {
   "cell_type": "code",
   "execution_count": null,
   "metadata": {},
   "outputs": [],
   "source": [
    "import datetime"
   ]
  },
  {
   "cell_type": "code",
   "execution_count": null,
   "metadata": {},
   "outputs": [],
   "source": [
    "dt = datetime.datetime.strftime(data[0]['data-de-nascimento']), '%Y-%m-%d'\n",
    "# Esse comando é para formatar o seu formato de ano\n",
    "# O Y maiusculo é para informar que o ano está sendo usado em 4 digitos, se fosse dois se usaria o y minusculo"
   ]
  },
  {
   "cell_type": "code",
   "execution_count": null,
   "metadata": {},
   "outputs": [],
   "source": [
    "dt.year, dt.mouth, dt.day\n",
    "# Dessa forma você pode pegar dia, mês e ano separadamente"
   ]
  },
  {
   "cell_type": "code",
   "execution_count": null,
   "metadata": {},
   "outputs": [],
   "source": [
    "#Puxadinho\n",
    "ano, mes, dia = data[0]['data-de-nascimento'].split('-')\n",
    "# Com o \"split\" a cada vez que o caractere entre parenteses aparecer a string será cortada"
   ]
  },
  {
   "cell_type": "code",
   "execution_count": null,
   "metadata": {},
   "outputs": [],
   "source": [
    "#Puxadinho2\n",
    "data[0]['data-de-nascimento'][:4] # PEga os 4 primeiros digitos da variável\n",
    "data[0]['data-de-nascimento'][5:7] # PEga dodógito 5 ao 7 da variável\n",
    "data[0]['data-de-nascimento'][8:] # Pega do dígito 8 ao ultimo da variável"
   ]
  },
  {
   "cell_type": "code",
   "execution_count": null,
   "metadata": {},
   "outputs": [],
   "source": [
    "dia = Select(driver.find_element(By.NAME, 'dia'))\n",
    "mes = Select(driver.find_element(By.NAME, 'mes'))\n",
    "ano = Select(driver.find_element(By.NAME, 'ano'))"
   ]
  },
  {
   "cell_type": "code",
   "execution_count": null,
   "metadata": {},
   "outputs": [],
   "source": [
    "ano.select_by_visible_text(str(dt.year))"
   ]
  },
  {
   "cell_type": "code",
   "execution_count": null,
   "metadata": {},
   "outputs": [],
   "source": [
    "mes.select_by_visible_text(str(dt.mouth))"
   ]
  },
  {
   "cell_type": "code",
   "execution_count": null,
   "metadata": {},
   "outputs": [],
   "source": [
    "dia.select_by_visible_text(str(dt.day))"
   ]
  },
  {
   "cell_type": "code",
   "execution_count": null,
   "metadata": {},
   "outputs": [],
   "source": [
    "newsletter = driver.find_element(By.ID, 'airplane-mode')"
   ]
  },
  {
   "cell_type": "code",
   "execution_count": null,
   "metadata": {},
   "outputs": [],
   "source": [
    "switch_on = True if newsletter.get_attribute('aria-checked') == 'True' else False"
   ]
  },
  {
   "cell_type": "code",
   "execution_count": null,
   "metadata": {},
   "outputs": [],
   "source": [
    "newsletter.click()"
   ]
  }
 ],
 "metadata": {
  "kernelspec": {
   "display_name": "venv",
   "language": "python",
   "name": "python3"
  },
  "language_info": {
   "codemirror_mode": {
    "name": "ipython",
    "version": 3
   },
   "file_extension": ".py",
   "mimetype": "text/x-python",
   "name": "python",
   "nbconvert_exporter": "python",
   "pygments_lexer": "ipython3",
   "version": "3.12.7"
  }
 },
 "nbformat": 4,
 "nbformat_minor": 2
}
