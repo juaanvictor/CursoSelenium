{
 "cells": [
  {
   "cell_type": "code",
   "execution_count": null,
   "metadata": {},
   "outputs": [],
   "source": [
    "from selenium.webdriver.common.by import By\n",
    "from selenium import webdriver\n",
    "from selenium.webdriver.support.ui import Select\n",
    "\n",
    "driver = webdriver.Chrome()"
   ]
  },
  {
   "cell_type": "code",
   "execution_count": 4,
   "metadata": {},
   "outputs": [],
   "source": [
    "driver.get('http://localhost:8000/#/desafio/1')"
   ]
  },
  {
   "cell_type": "code",
   "execution_count": 5,
   "metadata": {},
   "outputs": [
    {
     "data": {
      "text/plain": [
       "(['lda-mota@example.net',\n",
       "  'sda-luz@example.org',\n",
       "  'daniela00@example.com',\n",
       "  'nogueiralorenzo@example.com',\n",
       "  'gcardoso@example.net',\n",
       "  'lorenzoaragao@example.org',\n",
       "  'sofia65@example.org',\n",
       "  'joao08@example.com',\n",
       "  'wduarte@example.org',\n",
       "  'mariada-rocha@example.com'],\n",
       " ['*V03BSlEA*',\n",
       "  'Qa8_2C0o5_',\n",
       "  'zZz4@J3ec@',\n",
       "  '%8h&@B6IgJ',\n",
       "  'OAHsP2Eu_h',\n",
       "  '240iCRzfO_',\n",
       "  '!ytSm4@x0w',\n",
       "  'J4d5A5nD)A',\n",
       "  '$V0TkvNYzd',\n",
       "  '%0t$9CKq3P'],\n",
       " ['27', '16', '24', '14', '20', '10', '1', '27', '2', '10'],\n",
       " ['7', '6', '7', '7', '3', '11', '5', '9', '4', '8'],\n",
       " ['1983',\n",
       "  '2003',\n",
       "  '1971',\n",
       "  '1996',\n",
       "  '1990',\n",
       "  '1998',\n",
       "  '1971',\n",
       "  '1954',\n",
       "  '1979',\n",
       "  '2003'],\n",
       " [0, 1, 1, 1, 1, 1, 1, 0, 0, 1],\n",
       " 10)"
      ]
     },
     "execution_count": 5,
     "metadata": {},
     "output_type": "execute_result"
    }
   ],
   "source": [
    "list_email = ['lda-mota@example.net', 'sda-luz@example.org', 'daniela00@example.com', 'nogueiralorenzo@example.com', 'gcardoso@example.net', 'lorenzoaragao@example.org', 'sofia65@example.org', 'joao08@example.com', 'wduarte@example.org', 'mariada-rocha@example.com']\n",
    "list_password = ['*V03BSlEA*', 'Qa8_2C0o5_', 'zZz4@J3ec@', '%8h&@B6IgJ', 'OAHsP2Eu_h', '240iCRzfO_', '!ytSm4@x0w', 'J4d5A5nD)A', '$V0TkvNYzd', '%0t$9CKq3P']\n",
    "list_day = ['27', '16', '24', '14', '20', '10', '1', '27', '2', '10']\n",
    "list_month = ['7', '6', '7', '7', '3', '11', '5', '9', '4', '8']\n",
    "list_year = ['1983', '2003', '1971', '1996', '1990', '1998', '1971', '1954', '1979', '2003']\n",
    "list_newsletter = [0, 1, 1, 1, 1, 1, 1, 0, 0, 1]\n",
    "cont = 0\n",
    "list_size = len(list_email)\n",
    "\n",
    "list_email, list_password, list_day, list_month, list_year, list_newsletter, list_size"
   ]
  },
  {
   "cell_type": "code",
   "execution_count": 6,
   "metadata": {},
   "outputs": [
    {
     "data": {
      "text/plain": [
       "(<selenium.webdriver.remote.webelement.WebElement (session=\"58ac9a0cb1c3410d40d18b187c163c28\", element=\"f.DD4F342193700CECB5D57BDE6ED94C46.d.D361009BB5B550586C0E61A1557663B8.e.4\")>,\n",
       " <selenium.webdriver.remote.webelement.WebElement (session=\"58ac9a0cb1c3410d40d18b187c163c28\", element=\"f.DD4F342193700CECB5D57BDE6ED94C46.d.D361009BB5B550586C0E61A1557663B8.e.5\")>,\n",
       " <selenium.webdriver.support.select.Select at 0x28974b61e50>,\n",
       " <selenium.webdriver.support.select.Select at 0x28974b62150>,\n",
       " <selenium.webdriver.support.select.Select at 0x289749899d0>,\n",
       " <selenium.webdriver.remote.webelement.WebElement (session=\"58ac9a0cb1c3410d40d18b187c163c28\", element=\"f.DD4F342193700CECB5D57BDE6ED94C46.d.D361009BB5B550586C0E61A1557663B8.e.11\")>)"
      ]
     },
     "execution_count": 6,
     "metadata": {},
     "output_type": "execute_result"
    }
   ],
   "source": [
    "email = driver.find_element(By.ID, 'radix-:r0:')\n",
    "password = driver.find_element(By.ID, 'radix-:r1:')\n",
    "select_day = Select(driver.find_element(By.ID, 'radix-:r2:'))\n",
    "select_mouth = Select(driver.find_element(By.ID, 'radix-:r3:'))\n",
    "select_year = Select(driver.find_element(By.ID, 'radix-:r4:'))\n",
    "button_newsletter = driver.find_element(By.ID, 'airplane-mode')\n",
    "\n",
    "email, password, select_day, select_mouth, select_year, button_newsletter"
   ]
  },
  {
   "cell_type": "code",
   "execution_count": 7,
   "metadata": {},
   "outputs": [],
   "source": [
    "while list_size > 0:\n",
    "    email.clear()\n",
    "    password.clear()\n",
    "    email.send_keys(list_email[cont])\n",
    "    password.send_keys(list_password[cont])\n",
    "    select_day.select_by_visible_text(list_day[cont])\n",
    "    select_mouth.select_by_visible_text(list_month[cont])\n",
    "    select_year.select_by_visible_text(list_year[cont])\n",
    "    if list_newsletter[cont] == 0:\n",
    "        email.submit()\n",
    "        cont+=1\n",
    "        list_size -= 1\n",
    "    elif list_newsletter[cont] == 1:\n",
    "        button_newsletter.click()\n",
    "        email.submit()\n",
    "        button_newsletter.click()\n",
    "        cont += 1\n",
    "        list_size -= 1\n",
    "\n",
    "    "
   ]
  },
  {
   "cell_type": "markdown",
   "metadata": {},
   "source": [
    "# Resolução Professor"
   ]
  },
  {
   "cell_type": "code",
   "execution_count": 8,
   "metadata": {},
   "outputs": [
    {
     "ename": "FileNotFoundError",
     "evalue": "[Errno 2] No such file or directory: './desafio_1.json'",
     "output_type": "error",
     "traceback": [
      "\u001b[31m---------------------------------------------------------------------------\u001b[39m",
      "\u001b[31mFileNotFoundError\u001b[39m                         Traceback (most recent call last)",
      "\u001b[36mCell\u001b[39m\u001b[36m \u001b[39m\u001b[32mIn[8]\u001b[39m\u001b[32m, line 3\u001b[39m\n\u001b[32m      1\u001b[39m \u001b[38;5;28;01mimport\u001b[39;00m\u001b[38;5;250m \u001b[39m\u001b[34;01mjson\u001b[39;00m\n\u001b[32m----> \u001b[39m\u001b[32m3\u001b[39m \u001b[38;5;28;01mwith\u001b[39;00m \u001b[38;5;28;43mopen\u001b[39;49m\u001b[43m(\u001b[49m\u001b[33;43m'\u001b[39;49m\u001b[33;43m./desafio_1.json\u001b[39;49m\u001b[33;43m'\u001b[39;49m\u001b[43m)\u001b[49m \u001b[38;5;28;01mas\u001b[39;00m file:\n\u001b[32m      4\u001b[39m     data = json.load(file)\n",
      "\u001b[36mFile \u001b[39m\u001b[32mc:\\Users\\juan.victor\\OneDrive - CENTRO DE INTEGRACAO EMPRESA ESCOLA DE MINAS GERAIS\\Documentos\\CursoSelenium\\venv\\Lib\\site-packages\\IPython\\core\\interactiveshell.py:325\u001b[39m, in \u001b[36m_modified_open\u001b[39m\u001b[34m(file, *args, **kwargs)\u001b[39m\n\u001b[32m    318\u001b[39m \u001b[38;5;28;01mif\u001b[39;00m file \u001b[38;5;129;01min\u001b[39;00m {\u001b[32m0\u001b[39m, \u001b[32m1\u001b[39m, \u001b[32m2\u001b[39m}:\n\u001b[32m    319\u001b[39m     \u001b[38;5;28;01mraise\u001b[39;00m \u001b[38;5;167;01mValueError\u001b[39;00m(\n\u001b[32m    320\u001b[39m         \u001b[33mf\u001b[39m\u001b[33m\"\u001b[39m\u001b[33mIPython won\u001b[39m\u001b[33m'\u001b[39m\u001b[33mt let you open fd=\u001b[39m\u001b[38;5;132;01m{\u001b[39;00mfile\u001b[38;5;132;01m}\u001b[39;00m\u001b[33m by default \u001b[39m\u001b[33m\"\u001b[39m\n\u001b[32m    321\u001b[39m         \u001b[33m\"\u001b[39m\u001b[33mas it is likely to crash IPython. If you know what you are doing, \u001b[39m\u001b[33m\"\u001b[39m\n\u001b[32m    322\u001b[39m         \u001b[33m\"\u001b[39m\u001b[33myou can use builtins\u001b[39m\u001b[33m'\u001b[39m\u001b[33m open.\u001b[39m\u001b[33m\"\u001b[39m\n\u001b[32m    323\u001b[39m     )\n\u001b[32m--> \u001b[39m\u001b[32m325\u001b[39m \u001b[38;5;28;01mreturn\u001b[39;00m \u001b[43mio_open\u001b[49m\u001b[43m(\u001b[49m\u001b[43mfile\u001b[49m\u001b[43m,\u001b[49m\u001b[43m \u001b[49m\u001b[43m*\u001b[49m\u001b[43margs\u001b[49m\u001b[43m,\u001b[49m\u001b[43m \u001b[49m\u001b[43m*\u001b[49m\u001b[43m*\u001b[49m\u001b[43mkwargs\u001b[49m\u001b[43m)\u001b[49m\n",
      "\u001b[31mFileNotFoundError\u001b[39m: [Errno 2] No such file or directory: './desafio_1.json'"
     ]
    }
   ],
   "source": [
    "import json\n",
    "\n",
    "with open('./desafio_1.json') as file:\n",
    "    data = json.load(file)"
   ]
  },
  {
   "cell_type": "code",
   "execution_count": null,
   "metadata": {},
   "outputs": [],
   "source": [
    "email = driver.find_element(By.NAME, 'email')\n",
    "senha = driver.find_element(By.NAME, 'senha')"
   ]
  },
  {
   "cell_type": "code",
   "execution_count": null,
   "metadata": {},
   "outputs": [],
   "source": [
    "email.send_keys(data[0]['email'])"
   ]
  },
  {
   "cell_type": "code",
   "execution_count": null,
   "metadata": {},
   "outputs": [],
   "source": [
    "email.send_keys(data[0]['email'])"
   ]
  },
  {
   "cell_type": "code",
   "execution_count": null,
   "metadata": {},
   "outputs": [],
   "source": [
    "data[0]['data-de-nascimento']"
   ]
  },
  {
   "cell_type": "code",
   "execution_count": null,
   "metadata": {},
   "outputs": [],
   "source": [
    "import datetime"
   ]
  },
  {
   "cell_type": "code",
   "execution_count": null,
   "metadata": {},
   "outputs": [],
   "source": [
    "dt = datetime.datetime.strftime(data[0]['data-de-nascimento']), '%Y-%m-%d'\n",
    "# Esse comando é para formatar o seu formato de ano\n",
    "# O Y maiusculo é para informar que o ano está sendo usado em 4 digitos, se fosse dois se usaria o y minusculo"
   ]
  },
  {
   "cell_type": "code",
   "execution_count": null,
   "metadata": {},
   "outputs": [],
   "source": [
    "dt.year, dt.mouth, dt.day\n",
    "# Dessa forma você pode pegar dia, mês e ano separadamente"
   ]
  },
  {
   "cell_type": "code",
   "execution_count": null,
   "metadata": {},
   "outputs": [],
   "source": [
    "#Puxadinho\n",
    "ano, mes, dia = data[0]['data-de-nascimento'].split('-')\n",
    "# Com o \"split\" a cada vez que o caractere entre parenteses aparecer a string será cortada"
   ]
  },
  {
   "cell_type": "code",
   "execution_count": null,
   "metadata": {},
   "outputs": [],
   "source": [
    "#Puxadinho2\n",
    "data[0]['data-de-nascimento'][:4] # PEga os 4 primeiros digitos da variável\n",
    "data[0]['data-de-nascimento'][5:7] # PEga dodógito 5 ao 7 da variável\n",
    "data[0]['data-de-nascimento'][8:] # Pega do dígito 8 ao ultimo da variável"
   ]
  },
  {
   "cell_type": "code",
   "execution_count": null,
   "metadata": {},
   "outputs": [],
   "source": [
    "dia = Select(driver.find_element(By.NAME, 'dia'))\n",
    "mes = Select(driver.find_element(By.NAME, 'mes'))\n",
    "ano = Select(driver.find_element(By.NAME, 'ano'))"
   ]
  },
  {
   "cell_type": "code",
   "execution_count": null,
   "metadata": {},
   "outputs": [],
   "source": [
    "ano.select_by_visible_text(str(dt.year))"
   ]
  },
  {
   "cell_type": "code",
   "execution_count": null,
   "metadata": {},
   "outputs": [],
   "source": [
    "mes.select_by_visible_text(str(dt.mouth))"
   ]
  },
  {
   "cell_type": "code",
   "execution_count": null,
   "metadata": {},
   "outputs": [],
   "source": [
    "dia.select_by_visible_text(str(dt.day))"
   ]
  },
  {
   "cell_type": "code",
   "execution_count": null,
   "metadata": {},
   "outputs": [],
   "source": [
    "newsletter = driver.find_element(By.ID, 'airplane-mode')"
   ]
  },
  {
   "cell_type": "code",
   "execution_count": null,
   "metadata": {},
   "outputs": [],
   "source": [
    "switch_on = True if newsletter.get_attribute('aria-checked') == 'True' else False"
   ]
  },
  {
   "cell_type": "code",
   "execution_count": null,
   "metadata": {},
   "outputs": [],
   "source": [
    "if switch_on != data[0]['newsletter']:\n",
    "    newsletter.click()"
   ]
  },
  {
   "cell_type": "code",
   "execution_count": null,
   "metadata": {},
   "outputs": [],
   "source": [
    "email.submit()"
   ]
  },
  {
   "cell_type": "code",
   "execution_count": null,
   "metadata": {},
   "outputs": [],
   "source": [
    "import time\n",
    "# biblioteca python"
   ]
  },
  {
   "cell_type": "code",
   "execution_count": null,
   "metadata": {},
   "outputs": [],
   "source": [
    "time.sleep(1)\n",
    "# Essa função serve para gerar um delay na página, e o tempo desse delay é passado entre parênteses em segundos\n",
    "# Quando chegar nessa função o sistema irá esperar os segundos passados antes de executar o próximo comando\n",
    "# Não é a melhor opção para lidar com latência do navegador"
   ]
  }
 ],
 "metadata": {
  "kernelspec": {
   "display_name": "venv",
   "language": "python",
   "name": "python3"
  },
  "language_info": {
   "codemirror_mode": {
    "name": "ipython",
    "version": 3
   },
   "file_extension": ".py",
   "mimetype": "text/x-python",
   "name": "python",
   "nbconvert_exporter": "python",
   "pygments_lexer": "ipython3",
   "version": "3.12.7"
  }
 },
 "nbformat": 4,
 "nbformat_minor": 2
}
