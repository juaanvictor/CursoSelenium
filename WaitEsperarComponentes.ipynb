{
 "cells": [
  {
   "cell_type": "code",
   "execution_count": 1,
   "metadata": {},
   "outputs": [],
   "source": [
    "from selenium.webdriver.support.ui import Select\n",
    "from selenium.webdriver.common.by import By\n",
    "from selenium import webdriver\n",
    "\n",
    "driver = webdriver.Chrome()"
   ]
  },
  {
   "cell_type": "code",
   "execution_count": 3,
   "metadata": {},
   "outputs": [],
   "source": [
    "driver.get('http://localhost:8000/#/exemplo/4')"
   ]
  },
  {
   "cell_type": "code",
   "execution_count": 9,
   "metadata": {},
   "outputs": [],
   "source": [
    "from selenium.webdriver.support.wait import WebDriverWait\n",
    "# Essa função server para avisarmos o nosso programa quanto tempo ele deve esperar antes de nos retornar um erro\n",
    "from selenium.webdriver.support import expected_conditions as EC\n",
    "\n",
    "# O \"as\" cria um alias, logo toda vez que chamarmos a função EC vai ser como chamar a \"expected_conditions\""
   ]
  },
  {
   "cell_type": "code",
   "execution_count": 10,
   "metadata": {},
   "outputs": [],
   "source": [
    "wait = WebDriverWait(driver=driver, timeout=5)\n",
    "# Com esse comando primeiro passamos o navegador em que estamos realizando o teste e depois o tempo em segundos que o sistema deverá aguardar antes de apontar erro."
   ]
  },
  {
   "cell_type": "code",
   "execution_count": 11,
   "metadata": {},
   "outputs": [
    {
     "data": {
      "text/plain": [
       "<selenium.webdriver.remote.webelement.WebElement (session=\"fc45eb0fd44f5e9d5dcf465e8404ec24\", element=\"f.83FDC8329C2E1208F14F8497056D6665.d.655EE814C12BEA5AF495F47457BC5997.e.951\")>"
      ]
     },
     "execution_count": 11,
     "metadata": {},
     "output_type": "execute_result"
    }
   ],
   "source": [
    "driver.refresh()\n",
    "wait.until(EC.presence_of_element_located(locator=(By.ID, 'vantagens')))\n",
    "# Esse comando faz com que a váriavel \"wait\" que guarda o tempo que nosso navegador espera para apontar erros, espere até que o elemento desejado esteja disponível na tela"
   ]
  },
  {
   "cell_type": "code",
   "execution_count": null,
   "metadata": {},
   "outputs": [],
   "source": [
    "driver.refresh()\n",
    "wait = WebDriverWait(driver=driver, timeout=5, poll_frequency=0.5)\n",
    "# O \"poll_frequency\" dita quantas vezes a cada o segundo o sistema irá tentar encontrar um elemento até acha-lo ou até retornar um erro\n",
    "wait.until(EC.presence_of_element_located(locator=(By.ID, 'vantagens')))"
   ]
  },
  {
   "cell_type": "markdown",
   "metadata": {},
   "source": [
    "# Personalizar as exceptions"
   ]
  },
  {
   "cell_type": "code",
   "execution_count": null,
   "metadata": {},
   "outputs": [
    {
     "name": "stdout",
     "output_type": "stream",
     "text": [
      "Não foi encontrada um componente de ID que seja igual a \"vantagens\"\n"
     ]
    }
   ],
   "source": [
    "driver.refresh()\n",
    "wait = WebDriverWait(driver=driver, timeout=2, poll_frequency=0.5)\n",
    "\n",
    "try:\n",
    "    wait.until(\n",
    "        method=EC.presence_of_element_located(locator=(By.ID, 'vantagens')),\n",
    "        message='Não foi encontrada um componente de ID que seja igual a \"vantagens\"'\n",
    "    )\n",
    "    # Adicionando o método \"method\" e \"message\" você consegue personalizar a mensagem de isso. Caso dê erro.\n",
    "except Exception as e:\n",
    "    print(e.msg)\n",
    "    # Com esse try e exception o programa captura o erro e retornar uma mensagem mais amigável\n",
    "    # Colocando o comando \".msg\" após a variável que criamos, o sistema irá retornar apenas a mensagem de erro"
   ]
  },
  {
   "cell_type": "markdown",
   "metadata": {},
   "source": [
    "# Exemplo de uso do DriverWait\n",
    "- Lojas com tabelas de produtos;\n",
    "- Internet lenta;\n",
    "- Alta latência"
   ]
  },
  {
   "cell_type": "code",
   "execution_count": 20,
   "metadata": {},
   "outputs": [],
   "source": [
    "driver.get('http://localhost:8000/#/exemplo/4')"
   ]
  },
  {
   "cell_type": "code",
   "execution_count": 27,
   "metadata": {},
   "outputs": [],
   "source": [
    "driver.implicitly_wait(time_to_wait=5)\n",
    "# Esse comando faz com que caso não seja possível achar um elemento logo de cara, eles esperará 10 segundos para procurar novamente"
   ]
  },
  {
   "cell_type": "code",
   "execution_count": 26,
   "metadata": {},
   "outputs": [
    {
     "data": {
      "text/plain": [
       "<selenium.webdriver.remote.webelement.WebElement (session=\"fc45eb0fd44f5e9d5dcf465e8404ec24\", element=\"f.83FDC8329C2E1208F14F8497056D6665.d.5B785B427D671DA484388EF2980C8BCC.e.876\")>"
      ]
     },
     "execution_count": 26,
     "metadata": {},
     "output_type": "execute_result"
    }
   ],
   "source": [
    "driver.refresh()\n",
    "driver.find_element(By.ID, 'vantagens')"
   ]
  }
 ],
 "metadata": {
  "kernelspec": {
   "display_name": "venv",
   "language": "python",
   "name": "python3"
  },
  "language_info": {
   "codemirror_mode": {
    "name": "ipython",
    "version": 3
   },
   "file_extension": ".py",
   "mimetype": "text/x-python",
   "name": "python",
   "nbconvert_exporter": "python",
   "pygments_lexer": "ipython3",
   "version": "3.12.7"
  }
 },
 "nbformat": 4,
 "nbformat_minor": 2
}
