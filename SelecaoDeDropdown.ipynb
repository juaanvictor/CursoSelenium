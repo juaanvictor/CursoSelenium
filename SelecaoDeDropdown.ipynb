{
 "cells": [
  {
   "cell_type": "code",
   "execution_count": 1,
   "metadata": {},
   "outputs": [],
   "source": [
    "from selenium.webdriver.common.by import By\n",
    "from selenium import webdriver\n",
    "\n",
    "driver = webdriver.Chrome()"
   ]
  },
  {
   "cell_type": "code",
   "execution_count": 8,
   "metadata": {},
   "outputs": [],
   "source": [
    "driver.get('http://localhost:8000/#/exemplo/3')"
   ]
  },
  {
   "cell_type": "code",
   "execution_count": 9,
   "metadata": {},
   "outputs": [],
   "source": [
    "from selenium.webdriver.support.ui import Select"
   ]
  },
  {
   "cell_type": "code",
   "execution_count": null,
   "metadata": {},
   "outputs": [],
   "source": [
    "select_centro_oeste = Select(driver.find_element(By.NAME, 'regiao'))\n",
    "# Com o select nós pegamos os valores de uma caixa de interação de uma dropdown"
   ]
  },
  {
   "cell_type": "code",
   "execution_count": null,
   "metadata": {},
   "outputs": [
    {
     "name": "stdout",
     "output_type": "stream",
     "text": [
      "0 Distrito Federal\n",
      "1 Goiás\n",
      "2 Mato Grosso\n",
      "3 Mato Grosso do Sul\n"
     ]
    }
   ],
   "source": [
    "for opt in select_centro_oeste.options:\n",
    "    print(opt.get_attribute('value'), opt.text)\n",
    "    \n",
    "# Iterando a variável com o valor da dropdown e retornando os valores do print obteremos uma lista com os indices e o valor correspondente a cada um desses indices"
   ]
  },
  {
   "cell_type": "markdown",
   "metadata": {},
   "source": [
    "# Selecionar pelo indice"
   ]
  },
  {
   "cell_type": "code",
   "execution_count": null,
   "metadata": {},
   "outputs": [],
   "source": [
    "select_centro_oeste.select_by_index(2)\n",
    "# Com esse comando podemos escolher pelo indice qual item da dropdown será selecionado"
   ]
  },
  {
   "cell_type": "markdown",
   "metadata": {},
   "source": [
    "# Selecionar pelo texto visivel"
   ]
  },
  {
   "cell_type": "code",
   "execution_count": 18,
   "metadata": {},
   "outputs": [],
   "source": [
    "select_centro_oeste.select_by_visible_text('Mato Grosso do Sul')"
   ]
  },
  {
   "cell_type": "markdown",
   "metadata": {},
   "source": [
    "# Selecionar pelo value"
   ]
  },
  {
   "cell_type": "code",
   "execution_count": null,
   "metadata": {},
   "outputs": [],
   "source": [
    "select_centro_oeste.select_by_value('2')"
   ]
  },
  {
   "cell_type": "markdown",
   "metadata": {},
   "source": [
    "# Como saber a opção selecionada nesse momento"
   ]
  },
  {
   "cell_type": "code",
   "execution_count": null,
   "metadata": {},
   "outputs": [
    {
     "data": {
      "text/plain": [
       "'Mato Grosso do Sul'"
      ]
     },
     "execution_count": 19,
     "metadata": {},
     "output_type": "execute_result"
    }
   ],
   "source": [
    "select_centro_oeste.first_selected_option.text\n",
    "# Se não colocar o .text no final será passado um valor em webElemente "
   ]
  },
  {
   "cell_type": "markdown",
   "metadata": {},
   "source": [
    "# Selecionar mais de um elemento"
   ]
  },
  {
   "cell_type": "code",
   "execution_count": 21,
   "metadata": {},
   "outputs": [],
   "source": [
    "multi_centro_oeste = Select(driver.find_element(By.CSS_SELECTOR, '#multi-select select'))"
   ]
  },
  {
   "cell_type": "code",
   "execution_count": 22,
   "metadata": {},
   "outputs": [
    {
     "name": "stdout",
     "output_type": "stream",
     "text": [
      "0 Distrito Federal\n",
      "1 Goiás\n",
      "2 Mato Grosso\n",
      "3 Mato Grosso do Sul\n"
     ]
    }
   ],
   "source": [
    "for mco in multi_centro_oeste.options:\n",
    "    print(mco.get_attribute('value'), mco.text)"
   ]
  },
  {
   "cell_type": "code",
   "execution_count": 35,
   "metadata": {},
   "outputs": [],
   "source": [
    "multi_centro_oeste.select_by_index(2)\n",
    "multi_centro_oeste.select_by_index(0)"
   ]
  },
  {
   "cell_type": "code",
   "execution_count": null,
   "metadata": {},
   "outputs": [
    {
     "name": "stdout",
     "output_type": "stream",
     "text": [
      "0 Distrito Federal\n",
      "2 Mato Grosso\n"
     ]
    }
   ],
   "source": [
    "for aso in multi_centro_oeste.all_selected_options:\n",
    "    print(aso.get_attribute('value'), aso.text)\n",
    "\n",
    "# Com esse comando verificamos "
   ]
  },
  {
   "cell_type": "code",
   "execution_count": 38,
   "metadata": {},
   "outputs": [],
   "source": [
    "multi_centro_oeste.deselect_all()\n",
    "# O deselect tem as mesmas opções do select, porém para deselecionar"
   ]
  },
  {
   "cell_type": "markdown",
   "metadata": {},
   "source": [
    "# Selecionar o segundo elemento de cada dropdown"
   ]
  },
  {
   "cell_type": "code",
   "execution_count": 39,
   "metadata": {},
   "outputs": [],
   "source": [
    "all_selects = driver.find_elements(By.TAG_NAME, 'select')"
   ]
  },
  {
   "cell_type": "code",
   "execution_count": 41,
   "metadata": {},
   "outputs": [],
   "source": [
    "for item in all_selects:\n",
    "    select = Select(item)\n",
    "    select.select_by_index(1)"
   ]
  }
 ],
 "metadata": {
  "kernelspec": {
   "display_name": "venv",
   "language": "python",
   "name": "python3"
  },
  "language_info": {
   "codemirror_mode": {
    "name": "ipython",
    "version": 3
   },
   "file_extension": ".py",
   "mimetype": "text/x-python",
   "name": "python",
   "nbconvert_exporter": "python",
   "pygments_lexer": "ipython3",
   "version": "3.12.7"
  }
 },
 "nbformat": 4,
 "nbformat_minor": 2
}
