{
 "cells": [
  {
   "cell_type": "code",
   "execution_count": 1,
   "metadata": {},
   "outputs": [],
   "source": [
    "from selenium.webdriver.common.by import By\n",
    "from selenium import webdriver\n",
    "\n",
    "driver = webdriver.Chrome()"
   ]
  },
  {
   "cell_type": "code",
   "execution_count": 2,
   "metadata": {},
   "outputs": [],
   "source": [
    "driver.get('http://localhost:8000/#/exemplo/2')"
   ]
  },
  {
   "cell_type": "code",
   "execution_count": 24,
   "metadata": {},
   "outputs": [
    {
     "data": {
      "text/plain": [
       "(<selenium.webdriver.remote.webelement.WebElement (session=\"4f82cbf0096580afd7a2b88276920c3a\", element=\"f.5E60A6D4D853A2EACB5066A241F65676.d.C00AB76EAA08012ABD529D060227B6E1.e.866\")>,\n",
       " <selenium.webdriver.remote.webelement.WebElement (session=\"4f82cbf0096580afd7a2b88276920c3a\", element=\"f.5E60A6D4D853A2EACB5066A241F65676.d.C00AB76EAA08012ABD529D060227B6E1.e.869\")>,\n",
       " <selenium.webdriver.remote.webelement.WebElement (session=\"4f82cbf0096580afd7a2b88276920c3a\", element=\"f.5E60A6D4D853A2EACB5066A241F65676.d.C00AB76EAA08012ABD529D060227B6E1.e.751\")>)"
      ]
     },
     "execution_count": 24,
     "metadata": {},
     "output_type": "execute_result"
    }
   ],
   "source": [
    "email = driver.find_element(By.ID, 'radix-:r0:')\n",
    "senha = driver.find_element(By.ID, 'radix-:r1:')\n",
    "enviar = driver.find_element(By.CSS_SELECTOR, 'button[type=\"submit\"]')\n",
    "\n",
    "email, senha, enviar"
   ]
  },
  {
   "cell_type": "code",
   "execution_count": 28,
   "metadata": {},
   "outputs": [],
   "source": [
    "email.clear()\n",
    "senha.clear()\n",
    "email.send_keys('testedasilva@gmail.com')\n",
    "senha.send_keys('Asdf1020')\n",
    "# Esse comando vai preencher com o texto escolhido o conteúdo salvo na variável criada por você"
   ]
  },
  {
   "cell_type": "code",
   "execution_count": 16,
   "metadata": {},
   "outputs": [],
   "source": [
    "enviar.click()\n",
    "# A função clica simula um clica de mouse no elemento salvo dentro da variável"
   ]
  },
  {
   "cell_type": "code",
   "execution_count": 29,
   "metadata": {},
   "outputs": [],
   "source": [
    "email.clear()\n",
    "senha.clear()\n",
    "email.send_keys('testedasilva2@gmail.com')\n",
    "senha.send_keys('Asdf1020')"
   ]
  },
  {
   "cell_type": "code",
   "execution_count": null,
   "metadata": {},
   "outputs": [],
   "source": [
    "email.submit()\n",
    "# A função \"submit\" procura o botão de enviar e envia o nosso formulário automaticamente"
   ]
  },
  {
   "cell_type": "code",
   "execution_count": 33,
   "metadata": {},
   "outputs": [],
   "source": [
    "from selenium.webdriver.common.keys import Keys\n",
    "# Com esse comando você está importando o teclado do selenium, assim poderá dar comandos para clicar em teclas, como o enter"
   ]
  },
  {
   "cell_type": "code",
   "execution_count": 31,
   "metadata": {},
   "outputs": [],
   "source": [
    "email.clear()\n",
    "senha.clear()\n",
    "email.send_keys('testedasilva3@gmail.com')\n",
    "senha.send_keys('Asdf1020')"
   ]
  },
  {
   "cell_type": "code",
   "execution_count": null,
   "metadata": {},
   "outputs": [],
   "source": [
    "email.send_keys(Keys.ENTER)\n",
    "# Comando utilizado para simular clicks de teclas do teclado"
   ]
  }
 ],
 "metadata": {
  "kernelspec": {
   "display_name": "venv",
   "language": "python",
   "name": "python3"
  },
  "language_info": {
   "codemirror_mode": {
    "name": "ipython",
    "version": 3
   },
   "file_extension": ".py",
   "mimetype": "text/x-python",
   "name": "python",
   "nbconvert_exporter": "python",
   "pygments_lexer": "ipython3",
   "version": "3.12.7"
  }
 },
 "nbformat": 4,
 "nbformat_minor": 2
}
