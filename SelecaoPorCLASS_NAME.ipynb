{
 "cells": [
  {
   "cell_type": "code",
   "execution_count": 1,
   "metadata": {},
   "outputs": [],
   "source": [
    "from selenium.webdriver.common.by import By\n",
    "from selenium import webdriver\n",
    "\n",
    "driver = webdriver.Chrome()"
   ]
  },
  {
   "cell_type": "code",
   "execution_count": 4,
   "metadata": {},
   "outputs": [],
   "source": [
    "driver.get('http://localhost:8000/#/exemplo/1')"
   ]
  },
  {
   "cell_type": "code",
   "execution_count": 7,
   "metadata": {},
   "outputs": [
    {
     "data": {
      "text/plain": [
       "[<selenium.webdriver.remote.webelement.WebElement (session=\"78d65c3db67c2ede5bd6c327713f15cb\", element=\"f.1C9C040E748FF728CE0D52CC1975D651.d.F0A41AE01D6697AB5F06EA9A935FF171.e.8\")>,\n",
       " <selenium.webdriver.remote.webelement.WebElement (session=\"78d65c3db67c2ede5bd6c327713f15cb\", element=\"f.1C9C040E748FF728CE0D52CC1975D651.d.F0A41AE01D6697AB5F06EA9A935FF171.e.9\")>,\n",
       " <selenium.webdriver.remote.webelement.WebElement (session=\"78d65c3db67c2ede5bd6c327713f15cb\", element=\"f.1C9C040E748FF728CE0D52CC1975D651.d.F0A41AE01D6697AB5F06EA9A935FF171.e.10\")>,\n",
       " <selenium.webdriver.remote.webelement.WebElement (session=\"78d65c3db67c2ede5bd6c327713f15cb\", element=\"f.1C9C040E748FF728CE0D52CC1975D651.d.F0A41AE01D6697AB5F06EA9A935FF171.e.11\")>]"
      ]
     },
     "execution_count": 7,
     "metadata": {},
     "output_type": "execute_result"
    }
   ],
   "source": [
    "styled_input = driver.find_elements(By.CLASS_NAME, 'styled-input')\n",
    "styled_input"
   ]
  },
  {
   "cell_type": "code",
   "execution_count": 8,
   "metadata": {},
   "outputs": [
    {
     "name": "stdout",
     "output_type": "stream",
     "text": [
      "Srta. Júlia Oliveira\n",
      "Nacional Paradigma Orquestrador\n",
      "Sagitário\n",
      "Feminino\n"
     ]
    }
   ],
   "source": [
    "for si in styled_input:\n",
    "    value = si.get_property('value')\n",
    "    print(value)"
   ]
  },
  {
   "cell_type": "code",
   "execution_count": 16,
   "metadata": {},
   "outputs": [
    {
     "data": {
      "text/plain": [
       "[<selenium.webdriver.remote.webelement.WebElement (session=\"78d65c3db67c2ede5bd6c327713f15cb\", element=\"f.1C9C040E748FF728CE0D52CC1975D651.d.F0A41AE01D6697AB5F06EA9A935FF171.e.10\")>,\n",
       " <selenium.webdriver.remote.webelement.WebElement (session=\"78d65c3db67c2ede5bd6c327713f15cb\", element=\"f.1C9C040E748FF728CE0D52CC1975D651.d.F0A41AE01D6697AB5F06EA9A935FF171.e.11\")>]"
      ]
     },
     "execution_count": 16,
     "metadata": {},
     "output_type": "execute_result"
    }
   ],
   "source": [
    "multi_class = driver.find_elements(By.CLASS_NAME, 'styled-input.optional-info')\n",
    "multi_class"
   ]
  },
  {
   "cell_type": "code",
   "execution_count": 18,
   "metadata": {},
   "outputs": [
    {
     "name": "stdout",
     "output_type": "stream",
     "text": [
      "Sagitário\n",
      "Feminino\n"
     ]
    }
   ],
   "source": [
    "for mc in multi_class:\n",
    "    value = mc.get_property('value')\n",
    "    print(value)"
   ]
  }
 ],
 "metadata": {
  "kernelspec": {
   "display_name": "venv",
   "language": "python",
   "name": "python3"
  },
  "language_info": {
   "codemirror_mode": {
    "name": "ipython",
    "version": 3
   },
   "file_extension": ".py",
   "mimetype": "text/x-python",
   "name": "python",
   "nbconvert_exporter": "python",
   "pygments_lexer": "ipython3",
   "version": "3.12.7"
  }
 },
 "nbformat": 4,
 "nbformat_minor": 2
}
