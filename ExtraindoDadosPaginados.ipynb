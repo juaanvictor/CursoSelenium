{
 "cells": [
  {
   "cell_type": "code",
   "execution_count": 21,
   "metadata": {},
   "outputs": [],
   "source": [
    "from selenium import webdriver\n",
    "from dataclasses import dataclass\n",
    "from selenium.webdriver.common.by import By\n",
    "from selenium.webdriver.support.ui import Select\n",
    "from selenium.webdriver.support.wait import WebDriverWait\n",
    "from selenium.webdriver.support import expected_conditions as EC\n",
    "\n",
    "driver = webdriver.Chrome()"
   ]
  },
  {
   "cell_type": "code",
   "execution_count": 22,
   "metadata": {},
   "outputs": [],
   "source": [
    "driver.get('http://localhost:8000/#/exemplo/8')\n",
    "\n",
    "menu = driver.find_element(By.TAG_NAME, 'svg')\n",
    "menu.click()"
   ]
  },
  {
   "cell_type": "code",
   "execution_count": 23,
   "metadata": {},
   "outputs": [],
   "source": [
    "driver.implicitly_wait(time_to_wait=10)"
   ]
  },
  {
   "cell_type": "code",
   "execution_count": 24,
   "metadata": {},
   "outputs": [],
   "source": [
    "tabela = driver.find_element(By.ID, 'tabela-usuarios')"
   ]
  },
  {
   "cell_type": "code",
   "execution_count": 25,
   "metadata": {},
   "outputs": [
    {
     "data": {
      "text/plain": [
       "[<selenium.webdriver.remote.webelement.WebElement (session=\"45c4ae7bbe529562c6d5c491b82617e8\", element=\"f.C3736EC124E5C4556CF1169618515B21.d.A7344A7747B342982BC6DA0D6AA41B3C.e.193\")>,\n",
       " <selenium.webdriver.remote.webelement.WebElement (session=\"45c4ae7bbe529562c6d5c491b82617e8\", element=\"f.C3736EC124E5C4556CF1169618515B21.d.A7344A7747B342982BC6DA0D6AA41B3C.e.24\")>,\n",
       " <selenium.webdriver.remote.webelement.WebElement (session=\"45c4ae7bbe529562c6d5c491b82617e8\", element=\"f.C3736EC124E5C4556CF1169618515B21.d.A7344A7747B342982BC6DA0D6AA41B3C.e.25\")>,\n",
       " <selenium.webdriver.remote.webelement.WebElement (session=\"45c4ae7bbe529562c6d5c491b82617e8\", element=\"f.C3736EC124E5C4556CF1169618515B21.d.A7344A7747B342982BC6DA0D6AA41B3C.e.26\")>,\n",
       " <selenium.webdriver.remote.webelement.WebElement (session=\"45c4ae7bbe529562c6d5c491b82617e8\", element=\"f.C3736EC124E5C4556CF1169618515B21.d.A7344A7747B342982BC6DA0D6AA41B3C.e.27\")>,\n",
       " <selenium.webdriver.remote.webelement.WebElement (session=\"45c4ae7bbe529562c6d5c491b82617e8\", element=\"f.C3736EC124E5C4556CF1169618515B21.d.A7344A7747B342982BC6DA0D6AA41B3C.e.28\")>,\n",
       " <selenium.webdriver.remote.webelement.WebElement (session=\"45c4ae7bbe529562c6d5c491b82617e8\", element=\"f.C3736EC124E5C4556CF1169618515B21.d.A7344A7747B342982BC6DA0D6AA41B3C.e.30\")>,\n",
       " <selenium.webdriver.remote.webelement.WebElement (session=\"45c4ae7bbe529562c6d5c491b82617e8\", element=\"f.C3736EC124E5C4556CF1169618515B21.d.A7344A7747B342982BC6DA0D6AA41B3C.e.31\")>,\n",
       " <selenium.webdriver.remote.webelement.WebElement (session=\"45c4ae7bbe529562c6d5c491b82617e8\", element=\"f.C3736EC124E5C4556CF1169618515B21.d.A7344A7747B342982BC6DA0D6AA41B3C.e.234\")>,\n",
       " <selenium.webdriver.remote.webelement.WebElement (session=\"45c4ae7bbe529562c6d5c491b82617e8\", element=\"f.C3736EC124E5C4556CF1169618515B21.d.A7344A7747B342982BC6DA0D6AA41B3C.e.245\")>]"
      ]
     },
     "execution_count": 25,
     "metadata": {},
     "output_type": "execute_result"
    }
   ],
   "source": [
    "linhas = tabela.find_elements(By.CSS_SELECTOR, 'tbody tr')\n",
    "linhas"
   ]
  },
  {
   "cell_type": "code",
   "execution_count": 26,
   "metadata": {},
   "outputs": [],
   "source": [
    "@dataclass\n",
    "class Usuario:\n",
    "    avatar: str\n",
    "    nome: str\n",
    "    profissao: str\n",
    "    email: str\n",
    "    perfil: str\n",
    "    estado: str"
   ]
  },
  {
   "cell_type": "code",
   "execution_count": 29,
   "metadata": {},
   "outputs": [],
   "source": [
    "registros = []\n",
    "\n",
    "for linha in linhas:\n",
    "    dados = linha.get_property('children')\n",
    "    # Pegamos os dados de cada linha e iteramos dentro de uma variavel\n",
    "\n",
    "    # for utilizado apens para visualização\n",
    "    # for dado in dados:\n",
    "    #     print(dado.text)\n",
    "\n",
    "    registro = Usuario(\n",
    "        avatar = dados[0].find_element(By.TAG_NAME, 'img').get_property('src'),\n",
    "        nome = dados[1].text,\n",
    "        profissao = dados[2].text,\n",
    "        email = dados[3].text,\n",
    "        perfil = dados[4].text,\n",
    "        estado = dados[5].text,\n",
    "    )\n",
    "\n",
    "    registros.append(registro)"
   ]
  },
  {
   "cell_type": "code",
   "execution_count": 30,
   "metadata": {},
   "outputs": [
    {
     "data": {
      "text/plain": [
       "[Usuario(avatar='https://avatars.githubusercontent.com/u/44431314', nome='Eduardo Carvalho', profissao='Desenvolvedor', email='eduardo_carvalho3@example.net', perfil='eduardo.carvalho99', estado='Amapá'),\n",
       " Usuario(avatar='https://avatars.githubusercontent.com/u/22612260', nome='Leonardo Souza', profissao='Executivo', email='leonardo.souza10@example.com', perfil='leonardo_souza', estado='Mato Grosso do Sul'),\n",
       " Usuario(avatar='https://avatars.githubusercontent.com/u/12688552', nome='Meire Melo', profissao='Especialista', email='meire_melo@example.com', perfil='meire.melo96', estado='Sergipe'),\n",
       " Usuario(avatar='https://cloudflare-ipfs.com/ipfs/Qmd3W5DuhgHirLHGVixi6V76LhCkZUz6pnFt5AJBiyvHye/avatar/100.jpg', nome='Elísio Albuquerque', profissao='Desenvolvedor', email='elisio_albuquerque@example.org', perfil='elisio_albuquerque', estado='Alagoas'),\n",
       " Usuario(avatar='https://avatars.githubusercontent.com/u/10288658', nome='Lorenzo Xavier', profissao='Consultor', email='lorenzo.xavier@example.org', perfil='lorenzo_xavier', estado='Piauí'),\n",
       " Usuario(avatar='https://avatars.githubusercontent.com/u/60559248', nome='Deneval Moreira', profissao='Executivo', email='deneval_moreira@example.org', perfil='deneval.moreira6', estado='Bahia'),\n",
       " Usuario(avatar='https://cloudflare-ipfs.com/ipfs/Qmd3W5DuhgHirLHGVixi6V76LhCkZUz6pnFt5AJBiyvHye/avatar/759.jpg', nome='Alícia Oliveira', profissao='Planejador', email='alicia.oliveira@example.org', perfil='alicia_oliveira', estado='Santa Catarina'),\n",
       " Usuario(avatar='https://avatars.githubusercontent.com/u/35275338', nome='Leonardo Carvalho', profissao='Agente', email='leonardo.carvalho@example.org', perfil='leonardo_carvalho58', estado='Mato Grosso do Sul'),\n",
       " Usuario(avatar='https://cloudflare-ipfs.com/ipfs/Qmd3W5DuhgHirLHGVixi6V76LhCkZUz6pnFt5AJBiyvHye/avatar/443.jpg', nome='Anthony Albuquerque', profissao='Técnico', email='anthony.albuquerque42@example.net', perfil='anthony.albuquerque', estado='Rio de Janeiro'),\n",
       " Usuario(avatar='https://avatars.githubusercontent.com/u/8642909', nome='João Miguel Melo', profissao='Consultor', email='joaomiguel_melo19@example.net', perfil='joaomiguel.melo', estado='Maranhão')]"
      ]
     },
     "execution_count": 30,
     "metadata": {},
     "output_type": "execute_result"
    }
   ],
   "source": [
    "registros"
   ]
  },
  {
   "cell_type": "code",
   "execution_count": 34,
   "metadata": {},
   "outputs": [],
   "source": [
    "proximo = driver.find_element(By.XPATH, '//main//button[contains(text(), \"Próxima\")]')\n",
    "# Buscamos um item pelo seu XPATH e nele falamos que queremos um botão que contenha a palavra 'Próxima' em sue texto\n",
    "proximo.click()"
   ]
  },
  {
   "cell_type": "markdown",
   "metadata": {},
   "source": [
    "# Automatizando"
   ]
  },
  {
   "cell_type": "code",
   "execution_count": 39,
   "metadata": {},
   "outputs": [],
   "source": [
    "def rapar_dados_da_tabela():\n",
    "    linhas = driver.find_elements(By.CSS_SELECTOR, '#tabela-usuarios tbody tr')\n",
    "\n",
    "    registros = []\n",
    "    \n",
    "    for linha in linhas:\n",
    "        dados = linha.get_property('children')\n",
    "        # Pegamos os dados de cada linha e iteramos dentro de uma variavel\n",
    "         \n",
    "        # for utilizado apens para visualização\n",
    "        # for dado in dados:\n",
    "        #     print(dado.text)\n",
    "        \n",
    "        registro = Usuario(\n",
    "            avatar = dados[0].find_element(By.TAG_NAME, 'img').get_property('src'),\n",
    "            nome = dados[1].text,\n",
    "            profissao = dados[2].text,\n",
    "            email = dados[3].text,\n",
    "            perfil = dados[4].text,\n",
    "            estado = dados[5].text,\n",
    "        )\n",
    "        \n",
    "        registros.append(registro)\n",
    "    \n",
    "    return registros"
   ]
  },
  {
   "cell_type": "code",
   "execution_count": 40,
   "metadata": {},
   "outputs": [],
   "source": [
    "dados_da_tabela = []\n",
    "\n",
    "while True:\n",
    "    dados = rapar_dados_da_tabela()\n",
    "    dados_da_tabela.extend(dados)\n",
    "\n",
    "    try:\n",
    "        proximo = driver.find_element(By.XPATH, '//main//button[contains(text(), \"Próxima\")]')\n",
    "        proximo.click()\n",
    "    except Exception as e:\n",
    "        break"
   ]
  }
 ],
 "metadata": {
  "kernelspec": {
   "display_name": "venv",
   "language": "python",
   "name": "python3"
  },
  "language_info": {
   "codemirror_mode": {
    "name": "ipython",
    "version": 3
   },
   "file_extension": ".py",
   "mimetype": "text/x-python",
   "name": "python",
   "nbconvert_exporter": "python",
   "pygments_lexer": "ipython3",
   "version": "3.12.7"
  }
 },
 "nbformat": 4,
 "nbformat_minor": 2
}
