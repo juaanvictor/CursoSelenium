{
 "cells": [
  {
   "cell_type": "code",
   "execution_count": 1,
   "metadata": {},
   "outputs": [],
   "source": [
    "from selenium import webdriver\n",
    "from selenium.webdriver.common.by import By\n",
    "from selenium.webdriver.support.ui import Select\n",
    "from selenium.webdriver.support.wait import WebDriverWait\n",
    "from selenium.webdriver.support import expected_conditions as EC\n",
    "\n",
    "driver = webdriver.Chrome()"
   ]
  },
  {
   "cell_type": "code",
   "execution_count": 5,
   "metadata": {},
   "outputs": [],
   "source": [
    "driver.get('http://localhost:8000/#/exemplo/7')\n",
    "\n",
    "menu = driver.find_element(By.TAG_NAME, 'svg')\n",
    "menu.click()"
   ]
  },
  {
   "cell_type": "code",
   "execution_count": 4,
   "metadata": {},
   "outputs": [],
   "source": [
    "driver.implicitly_wait(time_to_wait=10)"
   ]
  },
  {
   "cell_type": "code",
   "execution_count": null,
   "metadata": {},
   "outputs": [],
   "source": [
    "# JEITO DEMORADO\n",
    "\n",
    "# galeria = driver.find_element(By.ID, 'galeria')\n",
    "# imagens = galeria.find_elements(By.TAG_NAME, 'img')\n",
    "# imagens"
   ]
  },
  {
   "cell_type": "code",
   "execution_count": null,
   "metadata": {},
   "outputs": [],
   "source": [
    "# JEITO RÁPIDO\n",
    "\n",
    "imagens = driver.find_elements(By.CSS_SELECTOR, '#galeria img')"
   ]
  },
  {
   "cell_type": "code",
   "execution_count": 9,
   "metadata": {},
   "outputs": [],
   "source": [
    "import urllib.request\n",
    "import os"
   ]
  },
  {
   "cell_type": "code",
   "execution_count": 13,
   "metadata": {},
   "outputs": [
    {
     "name": "stdout",
     "output_type": "stream",
     "text": [
      "imagem_0 https://picsum.photos/seed/4N5EXjT/1920/1080\n",
      "imagem_1 https://picsum.photos/seed/K1M8fhM/1920/1080\n",
      "imagem_2 https://picsum.photos/seed/WAUe7L/1920/1080\n",
      "imagem_3 https://picsum.photos/seed/lDhmg/1920/1080\n",
      "imagem_4 https://picsum.photos/seed/RsgyVHE4g/1920/1080\n",
      "imagem_5 https://picsum.photos/seed/JIcIlqIEgn/1920/1080\n",
      "imagem_6 https://picsum.photos/seed/uqQPluB/1920/1080\n",
      "imagem_7 https://picsum.photos/seed/YLiwQTPa/1920/1080\n",
      "imagem_8 https://picsum.photos/seed/n7FpZ6g/1920/1080\n",
      "imagem_9 https://picsum.photos/seed/Hbpyja1O3/1920/1080\n",
      "imagem_10 https://picsum.photos/seed/ivUZN5/1920/1080\n",
      "imagem_11 https://picsum.photos/seed/pjj1Kr13W/1920/1080\n",
      "imagem_12 https://picsum.photos/seed/RxLWu4W/1920/1080\n",
      "imagem_13 https://picsum.photos/seed/PI5CDsQ/1920/1080\n",
      "imagem_14 https://picsum.photos/seed/cSVHH/1920/1080\n",
      "imagem_15 https://picsum.photos/seed/UmN15ML/1920/1080\n",
      "imagem_16 https://picsum.photos/seed/UK3ONTEyj9/1920/1080\n",
      "imagem_17 https://picsum.photos/seed/YhTTuji/1920/1080\n",
      "imagem_18 https://picsum.photos/seed/84EQ4d/1920/1080\n",
      "imagem_19 https://picsum.photos/seed/R6VOMQbr/1920/1080\n",
      "imagem_20 https://picsum.photos/seed/l32U2/1920/1080\n",
      "imagem_21 https://picsum.photos/seed/Yl3yPlFTZ/1920/1080\n",
      "imagem_22 https://picsum.photos/seed/L8Pm6/1920/1080\n",
      "imagem_23 https://picsum.photos/seed/W0CyXQ/1920/1080\n",
      "imagem_24 https://picsum.photos/seed/2M4Yj7wBDV/1920/1080\n",
      "imagem_25 https://picsum.photos/seed/CRIpgzx/1920/1080\n",
      "imagem_26 https://picsum.photos/seed/ywzqM/1920/1080\n",
      "imagem_27 https://picsum.photos/seed/hgTODfapHk/1920/1080\n",
      "imagem_28 https://picsum.photos/seed/lI1zcdTFE8/1920/1080\n",
      "imagem_29 https://picsum.photos/seed/9Stl4zvg/1920/1080\n"
     ]
    }
   ],
   "source": [
    "for img in imagens:\n",
    "    img_src = img.get_property('src')\n",
    "    img_id = img.get_property('id')\n",
    "    print(img_id, img_src)\n",
    "\n",
    "    if not os.path.exists('./imagens'):\n",
    "        os.mkdir('./imagens')\n",
    "        # Esse if verifica se já existe o diretório imagens criado e se não existir, ele o cria\n",
    "\n",
    "    file = img_id + '.jpg'\n",
    "    # Aqui construimos o nome da imagens, o nome dela será a variável img_id e sua extenção foi passada entre aspas\n",
    "    filename = os.path.join('./imagens', file)\n",
    "    # Aqui concatemos o nome da imagem com o nome do diretório em que queremos que ela seja salva\n",
    "    urllib.request.urlretrieve(img_src, filename)\n",
    "    # Esse comando irá baixar a imagens recebendo como parâmetros a sua URL e o nome que ele terá"
   ]
  },
  {
   "cell_type": "code",
   "execution_count": 14,
   "metadata": {},
   "outputs": [
    {
     "data": {
      "text/plain": [
       "True"
      ]
     },
     "execution_count": 14,
     "metadata": {},
     "output_type": "execute_result"
    }
   ],
   "source": [
    "os.path.exists('./imagens')\n",
    "# Esse comando verifica se já existe o arquivo imagens criado"
   ]
  }
 ],
 "metadata": {
  "kernelspec": {
   "display_name": "venv",
   "language": "python",
   "name": "python3"
  },
  "language_info": {
   "codemirror_mode": {
    "name": "ipython",
    "version": 3
   },
   "file_extension": ".py",
   "mimetype": "text/x-python",
   "name": "python",
   "nbconvert_exporter": "python",
   "pygments_lexer": "ipython3",
   "version": "3.12.7"
  }
 },
 "nbformat": 4,
 "nbformat_minor": 2
}
